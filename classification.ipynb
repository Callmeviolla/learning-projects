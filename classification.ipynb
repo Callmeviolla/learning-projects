{
 "cells": [
  {
   "cell_type": "code",
   "execution_count": 1,
   "id": "21629d5f",
   "metadata": {},
   "outputs": [],
   "source": [
    "import numpy as np\n",
    "import pandas as pd\n",
    "from sklearn import metrics"
   ]
  },
  {
   "cell_type": "code",
   "execution_count": 2,
   "id": "79bc4b15",
   "metadata": {},
   "outputs": [
    {
     "data": {
      "text/html": [
       "<div>\n",
       "<style scoped>\n",
       "    .dataframe tbody tr th:only-of-type {\n",
       "        vertical-align: middle;\n",
       "    }\n",
       "\n",
       "    .dataframe tbody tr th {\n",
       "        vertical-align: top;\n",
       "    }\n",
       "\n",
       "    .dataframe thead th {\n",
       "        text-align: right;\n",
       "    }\n",
       "</style>\n",
       "<table border=\"1\" class=\"dataframe\">\n",
       "  <thead>\n",
       "    <tr style=\"text-align: right;\">\n",
       "      <th></th>\n",
       "      <th>Temperature (K)</th>\n",
       "      <th>Luminosity(L/Lo)</th>\n",
       "      <th>Radius(R/Ro)</th>\n",
       "      <th>Absolute magnitude(Mv)</th>\n",
       "      <th>Star type</th>\n",
       "      <th>Star color</th>\n",
       "      <th>Spectral Class</th>\n",
       "    </tr>\n",
       "  </thead>\n",
       "  <tbody>\n",
       "    <tr>\n",
       "      <th>0</th>\n",
       "      <td>3068</td>\n",
       "      <td>0.002400</td>\n",
       "      <td>0.1700</td>\n",
       "      <td>16.12</td>\n",
       "      <td>0</td>\n",
       "      <td>Red</td>\n",
       "      <td>M</td>\n",
       "    </tr>\n",
       "    <tr>\n",
       "      <th>1</th>\n",
       "      <td>3042</td>\n",
       "      <td>0.000500</td>\n",
       "      <td>0.1542</td>\n",
       "      <td>16.60</td>\n",
       "      <td>0</td>\n",
       "      <td>Red</td>\n",
       "      <td>M</td>\n",
       "    </tr>\n",
       "    <tr>\n",
       "      <th>2</th>\n",
       "      <td>2600</td>\n",
       "      <td>0.000300</td>\n",
       "      <td>0.1020</td>\n",
       "      <td>18.70</td>\n",
       "      <td>0</td>\n",
       "      <td>Red</td>\n",
       "      <td>M</td>\n",
       "    </tr>\n",
       "    <tr>\n",
       "      <th>3</th>\n",
       "      <td>2800</td>\n",
       "      <td>0.000200</td>\n",
       "      <td>0.1600</td>\n",
       "      <td>16.65</td>\n",
       "      <td>0</td>\n",
       "      <td>Red</td>\n",
       "      <td>M</td>\n",
       "    </tr>\n",
       "    <tr>\n",
       "      <th>4</th>\n",
       "      <td>1939</td>\n",
       "      <td>0.000138</td>\n",
       "      <td>0.1030</td>\n",
       "      <td>20.06</td>\n",
       "      <td>0</td>\n",
       "      <td>Red</td>\n",
       "      <td>M</td>\n",
       "    </tr>\n",
       "    <tr>\n",
       "      <th>...</th>\n",
       "      <td>...</td>\n",
       "      <td>...</td>\n",
       "      <td>...</td>\n",
       "      <td>...</td>\n",
       "      <td>...</td>\n",
       "      <td>...</td>\n",
       "      <td>...</td>\n",
       "    </tr>\n",
       "    <tr>\n",
       "      <th>235</th>\n",
       "      <td>38940</td>\n",
       "      <td>374830.000000</td>\n",
       "      <td>1356.0000</td>\n",
       "      <td>-9.93</td>\n",
       "      <td>5</td>\n",
       "      <td>Blue</td>\n",
       "      <td>O</td>\n",
       "    </tr>\n",
       "    <tr>\n",
       "      <th>236</th>\n",
       "      <td>30839</td>\n",
       "      <td>834042.000000</td>\n",
       "      <td>1194.0000</td>\n",
       "      <td>-10.63</td>\n",
       "      <td>5</td>\n",
       "      <td>Blue</td>\n",
       "      <td>O</td>\n",
       "    </tr>\n",
       "    <tr>\n",
       "      <th>237</th>\n",
       "      <td>8829</td>\n",
       "      <td>537493.000000</td>\n",
       "      <td>1423.0000</td>\n",
       "      <td>-10.73</td>\n",
       "      <td>5</td>\n",
       "      <td>White</td>\n",
       "      <td>A</td>\n",
       "    </tr>\n",
       "    <tr>\n",
       "      <th>238</th>\n",
       "      <td>9235</td>\n",
       "      <td>404940.000000</td>\n",
       "      <td>1112.0000</td>\n",
       "      <td>-11.23</td>\n",
       "      <td>5</td>\n",
       "      <td>White</td>\n",
       "      <td>A</td>\n",
       "    </tr>\n",
       "    <tr>\n",
       "      <th>239</th>\n",
       "      <td>37882</td>\n",
       "      <td>294903.000000</td>\n",
       "      <td>1783.0000</td>\n",
       "      <td>-7.80</td>\n",
       "      <td>5</td>\n",
       "      <td>Blue</td>\n",
       "      <td>O</td>\n",
       "    </tr>\n",
       "  </tbody>\n",
       "</table>\n",
       "<p>240 rows × 7 columns</p>\n",
       "</div>"
      ],
      "text/plain": [
       "     Temperature (K)  Luminosity(L/Lo)  Radius(R/Ro)  Absolute magnitude(Mv)  \\\n",
       "0               3068          0.002400        0.1700                   16.12   \n",
       "1               3042          0.000500        0.1542                   16.60   \n",
       "2               2600          0.000300        0.1020                   18.70   \n",
       "3               2800          0.000200        0.1600                   16.65   \n",
       "4               1939          0.000138        0.1030                   20.06   \n",
       "..               ...               ...           ...                     ...   \n",
       "235            38940     374830.000000     1356.0000                   -9.93   \n",
       "236            30839     834042.000000     1194.0000                  -10.63   \n",
       "237             8829     537493.000000     1423.0000                  -10.73   \n",
       "238             9235     404940.000000     1112.0000                  -11.23   \n",
       "239            37882     294903.000000     1783.0000                   -7.80   \n",
       "\n",
       "     Star type Star color Spectral Class  \n",
       "0            0        Red              M  \n",
       "1            0        Red              M  \n",
       "2            0        Red              M  \n",
       "3            0        Red              M  \n",
       "4            0        Red              M  \n",
       "..         ...        ...            ...  \n",
       "235          5       Blue              O  \n",
       "236          5       Blue              O  \n",
       "237          5      White              A  \n",
       "238          5      White              A  \n",
       "239          5       Blue              O  \n",
       "\n",
       "[240 rows x 7 columns]"
      ]
     },
     "execution_count": 2,
     "metadata": {},
     "output_type": "execute_result"
    }
   ],
   "source": [
    "stars = pd.read_csv('6 class csv.csv')\n",
    "stars"
   ]
  },
  {
   "cell_type": "code",
   "execution_count": 3,
   "id": "9ba649d0",
   "metadata": {},
   "outputs": [],
   "source": [
    "stars['Star type'].replace(0, 'Brown Dwarf', inplace=True)\n",
    "stars['Star type'].replace(1, 'Red Dwarf ', inplace=True)\n",
    "stars['Star type'].replace(2, 'White Dwarf', inplace=True)\n",
    "stars['Star type'].replace(3, 'Main Sequence', inplace=True)\n",
    "stars['Star type'].replace(4, 'Supergiant', inplace=True)\n",
    "stars['Star type'].replace(5, 'Hypergiant', inplace=True)\n"
   ]
  },
  {
   "cell_type": "code",
   "execution_count": 4,
   "id": "99ae2e88",
   "metadata": {},
   "outputs": [],
   "source": [
    "from sklearn.preprocessing import MinMaxScaler\n",
    "scaler = MinMaxScaler(feature_range=(0, 1))\n",
    "stars[['Temperature (K)','Luminosity(L/Lo)', 'Radius(R/Ro)', 'Absolute magnitude(Mv)']] = scaler.fit_transform(stars[['Temperature (K)','Luminosity(L/Lo)', 'Radius(R/Ro)', 'Absolute magnitude(Mv)']])"
   ]
  },
  {
   "cell_type": "code",
   "execution_count": 5,
   "id": "6671cf48",
   "metadata": {},
   "outputs": [],
   "source": [
    "from sklearn import model_selection\n",
    "train_data, test_data, train_labels, test_labels = model_selection.train_test_split(stars[['Temperature (K)','Luminosity(L/Lo)', 'Radius(R/Ro)', 'Absolute magnitude(Mv)']], stars['Star type'], test_size=0.3)"
   ]
  },
  {
   "cell_type": "code",
   "execution_count": 6,
   "id": "ceb1f079",
   "metadata": {},
   "outputs": [],
   "source": [
    "from sklearn.ensemble import RandomForestClassifier"
   ]
  },
  {
   "cell_type": "code",
   "execution_count": 7,
   "id": "e9173e8a",
   "metadata": {},
   "outputs": [
    {
     "data": {
      "text/plain": [
       "0.9940476190476191"
      ]
     },
     "execution_count": 7,
     "metadata": {},
     "output_type": "execute_result"
    }
   ],
   "source": [
    "stars_rf = RandomForestClassifier(oob_score=True).fit(train_data,train_labels)\n",
    "stars_rf.oob_score_ "
   ]
  },
  {
   "cell_type": "code",
   "execution_count": 8,
   "id": "4378868f",
   "metadata": {},
   "outputs": [
    {
     "name": "stdout",
     "output_type": "stream",
     "text": [
      "               precision    recall  f1-score   support\n",
      "\n",
      "  Brown Dwarf       1.00      1.00      1.00         8\n",
      "   Hypergiant       1.00      1.00      1.00        11\n",
      "Main Sequence       1.00      1.00      1.00        10\n",
      "   Red Dwarf        1.00      1.00      1.00        17\n",
      "   Supergiant       1.00      1.00      1.00        12\n",
      "  White Dwarf       1.00      1.00      1.00        14\n",
      "\n",
      "     accuracy                           1.00        72\n",
      "    macro avg       1.00      1.00      1.00        72\n",
      " weighted avg       1.00      1.00      1.00        72\n",
      "\n"
     ]
    }
   ],
   "source": [
    "stars_rf_predict = stars_rf.predict(test_data)\n",
    "print(metrics.classification_report(test_labels, stars_rf_predict))"
   ]
  },
  {
   "cell_type": "code",
   "execution_count": 9,
   "id": "06fad711",
   "metadata": {},
   "outputs": [
    {
     "data": {
      "text/plain": [
       "array([[ 8,  0,  0,  0,  0,  0],\n",
       "       [ 0, 11,  0,  0,  0,  0],\n",
       "       [ 0,  0, 10,  0,  0,  0],\n",
       "       [ 0,  0,  0, 17,  0,  0],\n",
       "       [ 0,  0,  0,  0, 12,  0],\n",
       "       [ 0,  0,  0,  0,  0, 14]], dtype=int64)"
      ]
     },
     "execution_count": 9,
     "metadata": {},
     "output_type": "execute_result"
    }
   ],
   "source": [
    "metrics.confusion_matrix(test_labels, stars_rf_predict)"
   ]
  },
  {
   "cell_type": "code",
   "execution_count": 10,
   "id": "78f17dc7",
   "metadata": {},
   "outputs": [
    {
     "data": {
      "text/plain": [
       "0.9940476190476191"
      ]
     },
     "execution_count": 10,
     "metadata": {},
     "output_type": "execute_result"
    }
   ],
   "source": [
    "stars_rf_2 = RandomForestClassifier(oob_score=True, min_samples_leaf=4).fit(train_data,train_labels)\n",
    "stars_rf_2.oob_score_"
   ]
  },
  {
   "cell_type": "code",
   "execution_count": 11,
   "id": "f05ecb36",
   "metadata": {},
   "outputs": [
    {
     "name": "stdout",
     "output_type": "stream",
     "text": [
      "               precision    recall  f1-score   support\n",
      "\n",
      "  Brown Dwarf       1.00      1.00      1.00         8\n",
      "   Hypergiant       1.00      1.00      1.00        11\n",
      "Main Sequence       1.00      1.00      1.00        10\n",
      "   Red Dwarf        1.00      1.00      1.00        17\n",
      "   Supergiant       1.00      1.00      1.00        12\n",
      "  White Dwarf       1.00      1.00      1.00        14\n",
      "\n",
      "     accuracy                           1.00        72\n",
      "    macro avg       1.00      1.00      1.00        72\n",
      " weighted avg       1.00      1.00      1.00        72\n",
      "\n"
     ]
    }
   ],
   "source": [
    "stars_rf_predict_2 = stars_rf_2.predict(test_data)\n",
    "print(metrics.classification_report(test_labels, stars_rf_predict_2))"
   ]
  },
  {
   "cell_type": "code",
   "execution_count": 12,
   "id": "1536ab31",
   "metadata": {},
   "outputs": [
    {
     "data": {
      "text/plain": [
       "array([[ 8,  0,  0,  0,  0,  0],\n",
       "       [ 0, 11,  0,  0,  0,  0],\n",
       "       [ 0,  0, 10,  0,  0,  0],\n",
       "       [ 0,  0,  0, 17,  0,  0],\n",
       "       [ 0,  0,  0,  0, 12,  0],\n",
       "       [ 0,  0,  0,  0,  0, 14]], dtype=int64)"
      ]
     },
     "execution_count": 12,
     "metadata": {},
     "output_type": "execute_result"
    }
   ],
   "source": [
    "metrics.confusion_matrix(test_labels, stars_rf_predict_2)"
   ]
  },
  {
   "cell_type": "code",
   "execution_count": 13,
   "id": "b9144934",
   "metadata": {},
   "outputs": [
    {
     "data": {
      "text/plain": [
       "array([[0.  , 0.  , 0.97, 0.03, 0.  , 0.  ],\n",
       "       [0.  , 0.  , 0.  , 0.  , 0.  , 1.  ],\n",
       "       [0.  , 0.  , 0.  , 0.  , 0.  , 1.  ],\n",
       "       [1.  , 0.  , 0.  , 0.  , 0.  , 0.  ],\n",
       "       [0.  , 0.  , 1.  , 0.  , 0.  , 0.  ],\n",
       "       [0.65, 0.  , 0.  , 0.35, 0.  , 0.  ],\n",
       "       [0.  , 0.  , 0.  , 0.  , 0.  , 1.  ],\n",
       "       [0.  , 0.  , 0.  , 0.  , 1.  , 0.  ],\n",
       "       [0.  , 1.  , 0.  , 0.  , 0.  , 0.  ],\n",
       "       [0.  , 0.01, 0.  , 0.  , 0.99, 0.  ],\n",
       "       [0.  , 0.01, 0.  , 0.  , 0.99, 0.  ],\n",
       "       [0.  , 0.  , 0.  , 1.  , 0.  , 0.  ],\n",
       "       [0.  , 0.  , 0.  , 1.  , 0.  , 0.  ],\n",
       "       [0.  , 0.  , 0.  , 1.  , 0.  , 0.  ],\n",
       "       [0.  , 1.  , 0.  , 0.  , 0.  , 0.  ],\n",
       "       [0.  , 0.01, 0.  , 0.  , 0.99, 0.  ],\n",
       "       [0.  , 0.  , 0.  , 1.  , 0.  , 0.  ],\n",
       "       [0.  , 0.02, 0.  , 0.  , 0.98, 0.  ],\n",
       "       [0.  , 0.  , 0.  , 1.  , 0.  , 0.  ],\n",
       "       [0.  , 1.  , 0.  , 0.  , 0.  , 0.  ],\n",
       "       [0.  , 0.  , 1.  , 0.  , 0.  , 0.  ],\n",
       "       [0.  , 1.  , 0.  , 0.  , 0.  , 0.  ],\n",
       "       [0.  , 0.  , 0.  , 0.  , 0.  , 1.  ],\n",
       "       [0.  , 0.01, 0.  , 0.  , 0.99, 0.  ],\n",
       "       [0.  , 0.  , 0.  , 1.  , 0.  , 0.  ],\n",
       "       [0.  , 0.02, 0.  , 0.  , 0.98, 0.  ],\n",
       "       [0.  , 0.02, 0.  , 0.  , 0.98, 0.  ],\n",
       "       [0.13, 0.  , 0.  , 0.85, 0.  , 0.02],\n",
       "       [0.  , 0.  , 1.  , 0.  , 0.  , 0.  ],\n",
       "       [0.  , 1.  , 0.  , 0.  , 0.  , 0.  ],\n",
       "       [0.  , 0.  , 0.  , 0.  , 1.  , 0.  ],\n",
       "       [0.64, 0.  , 0.  , 0.36, 0.  , 0.  ],\n",
       "       [0.  , 0.  , 0.  , 1.  , 0.  , 0.  ],\n",
       "       [0.  , 0.  , 0.  , 0.02, 0.  , 0.98],\n",
       "       [0.  , 1.  , 0.  , 0.  , 0.  , 0.  ],\n",
       "       [0.  , 0.  , 0.  , 1.  , 0.  , 0.  ],\n",
       "       [0.  , 0.  , 0.  , 1.  , 0.  , 0.  ],\n",
       "       [0.  , 0.01, 0.  , 0.  , 0.99, 0.  ],\n",
       "       [0.  , 0.  , 0.  , 1.  , 0.  , 0.  ],\n",
       "       [0.  , 0.  , 0.  , 1.  , 0.  , 0.  ],\n",
       "       [0.  , 0.  , 0.  , 0.  , 0.  , 1.  ],\n",
       "       [0.  , 0.  , 1.  , 0.  , 0.  , 0.  ],\n",
       "       [0.  , 0.  , 1.  , 0.  , 0.  , 0.  ],\n",
       "       [0.  , 0.  , 0.  , 0.  , 0.  , 1.  ],\n",
       "       [0.  , 0.  , 0.  , 0.  , 0.  , 1.  ],\n",
       "       [0.  , 0.  , 0.  , 1.  , 0.  , 0.  ],\n",
       "       [0.  , 1.  , 0.  , 0.  , 0.  , 0.  ],\n",
       "       [0.  , 0.  , 1.  , 0.  , 0.  , 0.  ],\n",
       "       [0.  , 0.  , 1.  , 0.  , 0.  , 0.  ],\n",
       "       [0.  , 0.  , 0.85, 0.15, 0.  , 0.  ],\n",
       "       [0.66, 0.  , 0.  , 0.34, 0.  , 0.  ],\n",
       "       [0.  , 0.  , 0.  , 0.02, 0.  , 0.98],\n",
       "       [0.  , 1.  , 0.  , 0.  , 0.  , 0.  ],\n",
       "       [0.66, 0.  , 0.  , 0.34, 0.  , 0.  ],\n",
       "       [0.  , 1.  , 0.  , 0.  , 0.  , 0.  ],\n",
       "       [0.  , 0.  , 0.  , 0.  , 0.  , 1.  ],\n",
       "       [0.  , 0.  , 0.  , 0.  , 1.  , 0.  ],\n",
       "       [0.  , 0.  , 0.  , 1.  , 0.  , 0.  ],\n",
       "       [1.  , 0.  , 0.  , 0.  , 0.  , 0.  ],\n",
       "       [0.  , 0.  , 0.  , 1.  , 0.  , 0.  ],\n",
       "       [0.  , 0.  , 0.  , 0.01, 0.  , 0.99],\n",
       "       [0.  , 1.  , 0.  , 0.  , 0.  , 0.  ],\n",
       "       [1.  , 0.  , 0.  , 0.  , 0.  , 0.  ],\n",
       "       [0.31, 0.  , 0.  , 0.64, 0.  , 0.05],\n",
       "       [0.  , 0.  , 1.  , 0.  , 0.  , 0.  ],\n",
       "       [1.  , 0.  , 0.  , 0.  , 0.  , 0.  ],\n",
       "       [0.  , 0.  , 0.  , 0.  , 0.  , 1.  ],\n",
       "       [0.  , 1.  , 0.  , 0.  , 0.  , 0.  ],\n",
       "       [0.  , 0.  , 0.  , 0.  , 1.  , 0.  ],\n",
       "       [0.  , 0.  , 0.  , 0.  , 0.  , 1.  ],\n",
       "       [0.  , 0.  , 0.  , 0.  , 0.  , 1.  ],\n",
       "       [0.  , 0.  , 0.  , 1.  , 0.  , 0.  ]])"
      ]
     },
     "execution_count": 13,
     "metadata": {},
     "output_type": "execute_result"
    }
   ],
   "source": [
    "stars_rf_predict_proba = stars_rf.predict_proba(test_data)\n",
    "stars_rf_predict_proba "
   ]
  },
  {
   "cell_type": "code",
   "execution_count": 14,
   "id": "e7b9dec2",
   "metadata": {},
   "outputs": [
    {
     "data": {
      "text/plain": [
       "1.0"
      ]
     },
     "execution_count": 14,
     "metadata": {},
     "output_type": "execute_result"
    }
   ],
   "source": [
    "fpr, tpr, treshold = metrics.roc_curve(y_true=test_labels, y_score=stars_rf_predict_proba[:,2], pos_label='Main Sequence')\n",
    "roc_auc = metrics.auc(fpr,tpr)\n",
    "roc_auc"
   ]
  },
  {
   "cell_type": "code",
   "execution_count": 15,
   "id": "a0015f88",
   "metadata": {},
   "outputs": [
    {
     "data": {
      "text/plain": [
       "<sklearn.metrics._plot.roc_curve.RocCurveDisplay at 0x29b5534f520>"
      ]
     },
     "execution_count": 15,
     "metadata": {},
     "output_type": "execute_result"
    },
    {
     "data": {
      "image/png": "[encoded data removed]",
      "text/plain": [
       "<Figure size 432x288 with 1 Axes>"
      ]
     },
     "metadata": {
      "needs_background": "light"
     },
     "output_type": "display_data"
    }
   ],
   "source": [
    "display = metrics.RocCurveDisplay(fpr=fpr, tpr=tpr, roc_auc=roc_auc)\n",
    "display.plot()"
   ]
  },
  {
   "cell_type": "code",
   "execution_count": 16,
   "id": "f21b4041",
   "metadata": {},
   "outputs": [
    {
     "data": {
      "text/plain": [
       "1.0"
      ]
     },
     "execution_count": 16,
     "metadata": {},
     "output_type": "execute_result"
    }
   ],
   "source": [
    "fpr, tpr, treshold = metrics.roc_curve(y_true=test_labels, y_score=stars_rf_predict_proba[:,3], pos_label='Red Dwarf ')\n",
    "roc_auc = metrics.auc(fpr,tpr)\n",
    "roc_auc"
   ]
  },
  {
   "cell_type": "code",
   "execution_count": 17,
   "id": "2650420d",
   "metadata": {},
   "outputs": [
    {
     "data": {
      "text/plain": [
       "<sklearn.metrics._plot.roc_curve.RocCurveDisplay at 0x29b567e2910>"
      ]
     },
     "execution_count": 17,
     "metadata": {},
     "output_type": "execute_result"
    },
    {
     "data": {
      "image/png": "[encoded data removed]",
      "text/plain": [
       "<Figure size 432x288 with 1 Axes>"
      ]
     },
     "metadata": {
      "needs_background": "light"
     },
     "output_type": "display_data"
    }
   ],
   "source": [
    "display = metrics.RocCurveDisplay(fpr=fpr, tpr=tpr, roc_auc=roc_auc)\n",
    "display.plot()"
   ]
  },
  {
   "cell_type": "code",
   "execution_count": 18,
   "id": "5a9e9f4a",
   "metadata": {},
   "outputs": [],
   "source": [
    "from xgboost import XGBClassifier"
   ]
  },
  {
   "cell_type": "code",
   "execution_count": 19,
   "id": "d7934d03",
   "metadata": {},
   "outputs": [
    {
     "name": "stdout",
     "output_type": "stream",
     "text": [
      "[14:59:07] WARNING: ..\\src\\learner.cc:1115: Starting in XGBoost 1.3.0, the default evaluation metric used with the objective 'multi:softprob' was changed from 'merror' to 'mlogloss'. Explicitly set eval_metric if you'd like to restore the old behavior.\n"
     ]
    },
    {
     "name": "stderr",
     "output_type": "stream",
     "text": [
      "C:\\Users\\0\\anaconda3\\lib\\site-packages\\xgboost\\sklearn.py:1224: UserWarning: The use of label encoder in XGBClassifier is deprecated and will be removed in a future release. To remove this warning, do the following: 1) Pass option use_label_encoder=False when constructing XGBClassifier object; and 2) Encode your labels (y) as integers starting with 0, i.e. 0, 1, 2, ..., [num_class - 1].\n",
      "  warnings.warn(label_encoder_deprecation_msg, UserWarning)\n"
     ]
    }
   ],
   "source": [
    "stars_XGB = XGBClassifier().fit(train_data, train_labels)"
   ]
  },
  {
   "cell_type": "code",
   "execution_count": 20,
   "id": "8bdd73a3",
   "metadata": {},
   "outputs": [
    {
     "data": {
      "text/plain": [
       "array(['Main Sequence', 'White Dwarf', 'White Dwarf', 'Brown Dwarf',\n",
       "       'Main Sequence', 'Brown Dwarf', 'White Dwarf', 'Supergiant',\n",
       "       'Hypergiant', 'Supergiant', 'Supergiant', 'Red Dwarf ',\n",
       "       'Red Dwarf ', 'Red Dwarf ', 'Hypergiant', 'Supergiant',\n",
       "       'Red Dwarf ', 'Supergiant', 'Red Dwarf ', 'Hypergiant',\n",
       "       'Main Sequence', 'Hypergiant', 'White Dwarf', 'Supergiant',\n",
       "       'Red Dwarf ', 'Supergiant', 'Supergiant', 'Red Dwarf ',\n",
       "       'Main Sequence', 'Hypergiant', 'Supergiant', 'Brown Dwarf',\n",
       "       'Red Dwarf ', 'White Dwarf', 'Hypergiant', 'Red Dwarf ',\n",
       "       'Red Dwarf ', 'Supergiant', 'Red Dwarf ', 'Red Dwarf ',\n",
       "       'White Dwarf', 'Main Sequence', 'Main Sequence', 'White Dwarf',\n",
       "       'White Dwarf', 'Red Dwarf ', 'Hypergiant', 'Main Sequence',\n",
       "       'Main Sequence', 'Main Sequence', 'Brown Dwarf', 'White Dwarf',\n",
       "       'Hypergiant', 'Brown Dwarf', 'Hypergiant', 'White Dwarf',\n",
       "       'Supergiant', 'Red Dwarf ', 'Brown Dwarf', 'Red Dwarf ',\n",
       "       'White Dwarf', 'Hypergiant', 'Brown Dwarf', 'Red Dwarf ',\n",
       "       'Main Sequence', 'Brown Dwarf', 'White Dwarf', 'Hypergiant',\n",
       "       'Supergiant', 'White Dwarf', 'White Dwarf', 'Red Dwarf '],\n",
       "      dtype=object)"
      ]
     },
     "execution_count": 20,
     "metadata": {},
     "output_type": "execute_result"
    }
   ],
   "source": [
    "stars_XGB_predict = stars_XGB.predict(test_data)\n",
    "stars_XGB_predict"
   ]
  },
  {
   "cell_type": "code",
   "execution_count": 21,
   "id": "14ff4612",
   "metadata": {},
   "outputs": [
    {
     "name": "stdout",
     "output_type": "stream",
     "text": [
      "               precision    recall  f1-score   support\n",
      "\n",
      "  Brown Dwarf       1.00      1.00      1.00         8\n",
      "   Hypergiant       1.00      1.00      1.00        11\n",
      "Main Sequence       1.00      1.00      1.00        10\n",
      "   Red Dwarf        1.00      1.00      1.00        17\n",
      "   Supergiant       1.00      1.00      1.00        12\n",
      "  White Dwarf       1.00      1.00      1.00        14\n",
      "\n",
      "     accuracy                           1.00        72\n",
      "    macro avg       1.00      1.00      1.00        72\n",
      " weighted avg       1.00      1.00      1.00        72\n",
      "\n"
     ]
    }
   ],
   "source": [
    "print(metrics.classification_report(test_labels, stars_XGB_predict))"
   ]
  },
  {
   "cell_type": "code",
   "execution_count": 22,
   "id": "daa5b161",
   "metadata": {},
   "outputs": [
    {
     "data": {
      "text/plain": [
       "array([[0.0058766 , 0.00643384, 0.9726624 , 0.00484221, 0.00448961,\n",
       "        0.00569538],\n",
       "       [0.00313684, 0.00343429, 0.00476579, 0.00294363, 0.00265633,\n",
       "        0.9830631 ],\n",
       "       [0.00313766, 0.00343518, 0.00476703, 0.00294439, 0.00239711,\n",
       "        0.9833187 ],\n",
       "       [0.9862884 , 0.00267243, 0.00208513, 0.00472343, 0.00186485,\n",
       "        0.0023657 ],\n",
       "       [0.00288082, 0.00315399, 0.98636   , 0.00237374, 0.00243952,\n",
       "        0.00279198],\n",
       "       [0.6266735 , 0.00194804, 0.00151994, 0.3667747 , 0.00135937,\n",
       "        0.00172445],\n",
       "       [0.00313684, 0.00343429, 0.00476579, 0.00294363, 0.00265633,\n",
       "        0.9830631 ],\n",
       "       [0.0021822 , 0.00238913, 0.00488806, 0.0017981 , 0.98662764,\n",
       "        0.00211491],\n",
       "       [0.00219126, 0.9831822 , 0.00275971, 0.00180556, 0.00793759,\n",
       "        0.00212369],\n",
       "       [0.00245541, 0.00268824, 0.00550003, 0.00202321, 0.9849534 ,\n",
       "        0.00237969],\n",
       "       [0.00293219, 0.00321023, 0.00369285, 0.00241607, 0.9849069 ,\n",
       "        0.00284177],\n",
       "       [0.00415702, 0.0045512 , 0.00355102, 0.980536  , 0.00317589,\n",
       "        0.00402883],\n",
       "       [0.00415702, 0.0045512 , 0.00355102, 0.980536  , 0.00317589,\n",
       "        0.00402883],\n",
       "       [0.00371772, 0.00407024, 0.00317576, 0.98259294, 0.00284027,\n",
       "        0.00360307],\n",
       "       [0.00219013, 0.9826744 , 0.00327471, 0.00180463, 0.00793349,\n",
       "        0.00212259],\n",
       "       [0.00261178, 0.00285943, 0.00328932, 0.0037309 , 0.98497736,\n",
       "        0.00253124],\n",
       "       [0.00415702, 0.0045512 , 0.00355102, 0.980536  , 0.00317589,\n",
       "        0.00402883],\n",
       "       [0.00292378, 0.00320103, 0.00654917, 0.00240915, 0.9820833 ,\n",
       "        0.00283362],\n",
       "       [0.00371772, 0.00407024, 0.00317576, 0.98259294, 0.00284027,\n",
       "        0.00360307],\n",
       "       [0.00218469, 0.98023236, 0.00489362, 0.00180014, 0.00877183,\n",
       "        0.00211732],\n",
       "       [0.00251231, 0.00275054, 0.98810476, 0.0020701 , 0.00212747,\n",
       "        0.00243484],\n",
       "       [0.00218657, 0.98107415, 0.00489783, 0.00180169, 0.00792057,\n",
       "        0.00211914],\n",
       "       [0.00313684, 0.00343429, 0.00476579, 0.00294363, 0.00265633,\n",
       "        0.9830631 ],\n",
       "       [0.00241531, 0.00264434, 0.00541021, 0.00199017, 0.98519915,\n",
       "        0.00234083],\n",
       "       [0.00371772, 0.00407024, 0.00317576, 0.98259294, 0.00284027,\n",
       "        0.00360307],\n",
       "       [0.00292888, 0.00320661, 0.00481567, 0.00241335, 0.9837969 ,\n",
       "        0.00283857],\n",
       "       [0.00534057, 0.00584698, 0.006726  , 0.00818113, 0.96872944,\n",
       "        0.00517588],\n",
       "       [0.00549295, 0.00601381, 0.0046922 , 0.974281  , 0.00419651,\n",
       "        0.00532356],\n",
       "       [0.00288082, 0.00315399, 0.98636   , 0.00237374, 0.00243952,\n",
       "        0.00279198],\n",
       "       [0.00219513, 0.98491514, 0.00276458, 0.00374651, 0.00425118,\n",
       "        0.00212743],\n",
       "       [0.00429611, 0.00470348, 0.00962313, 0.00353992, 0.9736737 ,\n",
       "        0.00416363],\n",
       "       [0.6012397 , 0.00162911, 0.00127109, 0.3932812 , 0.00113681,\n",
       "        0.00144212],\n",
       "       [0.00371772, 0.00407024, 0.00317576, 0.98259294, 0.00284027,\n",
       "        0.00360307],\n",
       "       [0.00314264, 0.00344063, 0.00318712, 0.00294906, 0.00240092,\n",
       "        0.9848797 ],\n",
       "       [0.00219126, 0.9831822 , 0.00275971, 0.00180556, 0.00793759,\n",
       "        0.00212369],\n",
       "       [0.00549101, 0.00601168, 0.00469054, 0.97429   , 0.00419503,\n",
       "        0.00532168],\n",
       "       [0.00371772, 0.00407024, 0.00317576, 0.98259294, 0.00284027,\n",
       "        0.00360307],\n",
       "       [0.00248513, 0.00272078, 0.0055666 , 0.0020477 , 0.9847713 ,\n",
       "        0.00240849],\n",
       "       [0.00371772, 0.00407024, 0.00317576, 0.98259294, 0.00284027,\n",
       "        0.00360307],\n",
       "       [0.00408861, 0.00447631, 0.00349258, 0.98085636, 0.00312362,\n",
       "        0.00396253],\n",
       "       [0.00313684, 0.00343429, 0.00476579, 0.00294363, 0.00265633,\n",
       "        0.9830631 ],\n",
       "       [0.00288082, 0.00315399, 0.98636   , 0.00237374, 0.00243952,\n",
       "        0.00279198],\n",
       "       [0.00545991, 0.00597763, 0.97460073, 0.00449887, 0.00417127,\n",
       "        0.00529154],\n",
       "       [0.00313684, 0.00343429, 0.00476579, 0.00294363, 0.00265633,\n",
       "        0.9830631 ],\n",
       "       [0.00313766, 0.00343518, 0.00476703, 0.00294439, 0.00239711,\n",
       "        0.9833187 ],\n",
       "       [0.00371772, 0.00407024, 0.00317576, 0.98259294, 0.00284027,\n",
       "        0.00360307],\n",
       "       [0.00218942, 0.9823539 , 0.00359984, 0.00180404, 0.00793091,\n",
       "        0.0021219 ],\n",
       "       [0.00265372, 0.00290535, 0.9874352 , 0.00218661, 0.00224721,\n",
       "        0.00257188],\n",
       "       [0.00515856, 0.00564771, 0.97600263, 0.00425056, 0.00394104,\n",
       "        0.00499948],\n",
       "       [0.00645147, 0.00706321, 0.96998817, 0.00531589, 0.0049288 ,\n",
       "        0.00625252],\n",
       "       [0.6905671 , 0.00187115, 0.00145994, 0.30313975, 0.00130571,\n",
       "        0.00165638],\n",
       "       [0.00314264, 0.00344063, 0.00318712, 0.00294906, 0.00240092,\n",
       "        0.9848797 ],\n",
       "       [0.00218469, 0.98023236, 0.00489362, 0.00180014, 0.00877183,\n",
       "        0.00211732],\n",
       "       [0.6905671 , 0.00187115, 0.00145994, 0.30313975, 0.00130571,\n",
       "        0.00165638],\n",
       "       [0.00218787, 0.9816595 , 0.00275544, 0.00335156, 0.0079253 ,\n",
       "        0.0021204 ],\n",
       "       [0.00313684, 0.00343429, 0.00476579, 0.00294363, 0.00265633,\n",
       "        0.9830631 ],\n",
       "       [0.00264241, 0.00289297, 0.0059189 , 0.0021773 , 0.9838075 ,\n",
       "        0.00256093],\n",
       "       [0.00371772, 0.00407024, 0.00317576, 0.98259294, 0.00284027,\n",
       "        0.00360307],\n",
       "       [0.9862884 , 0.00267243, 0.00208513, 0.00472343, 0.00186485,\n",
       "        0.0023657 ],\n",
       "       [0.00371772, 0.00407024, 0.00317576, 0.98259294, 0.00284027,\n",
       "        0.00360307],\n",
       "       [0.00314264, 0.00344063, 0.00318712, 0.00294906, 0.00240092,\n",
       "        0.9848797 ],\n",
       "       [0.00218469, 0.98023236, 0.00489362, 0.00180014, 0.00877183,\n",
       "        0.00211732],\n",
       "       [0.9862884 , 0.00267243, 0.00208513, 0.00472343, 0.00186485,\n",
       "        0.0023657 ],\n",
       "       [0.15112014, 0.16544989, 0.1290902 , 0.2924269 , 0.11545295,\n",
       "        0.14645995],\n",
       "       [0.00314073, 0.00343854, 0.9853895 , 0.0025879 , 0.00239946,\n",
       "        0.00304387],\n",
       "       [0.9862884 , 0.00267243, 0.00208513, 0.00472343, 0.00186485,\n",
       "        0.0023657 ],\n",
       "       [0.00313684, 0.00343429, 0.00476579, 0.00294363, 0.00265633,\n",
       "        0.9830631 ],\n",
       "       [0.00218581, 0.98073536, 0.00275285, 0.0042897 , 0.00791784,\n",
       "        0.00211841],\n",
       "       [0.00224538, 0.00245829, 0.00502957, 0.00185015, 0.98624045,\n",
       "        0.00217614],\n",
       "       [0.00313684, 0.00343429, 0.00476579, 0.00294363, 0.00265633,\n",
       "        0.9830631 ],\n",
       "       [0.00313766, 0.00343518, 0.00476703, 0.00294439, 0.00239711,\n",
       "        0.9833187 ],\n",
       "       [0.00371772, 0.00407024, 0.00317576, 0.98259294, 0.00284027,\n",
       "        0.00360307]], dtype=float32)"
      ]
     },
     "execution_count": 22,
     "metadata": {},
     "output_type": "execute_result"
    }
   ],
   "source": [
    "stars_XGB_predict_proba = stars_XGB.predict_proba(test_data)\n",
    "stars_XGB_predict_proba"
   ]
  },
  {
   "cell_type": "code",
   "execution_count": 23,
   "id": "0bdcf652",
   "metadata": {},
   "outputs": [
    {
     "data": {
      "text/plain": [
       "1.0"
      ]
     },
     "execution_count": 23,
     "metadata": {},
     "output_type": "execute_result"
    }
   ],
   "source": [
    "fpr, tpr, treshold = metrics.roc_curve(y_true=test_labels, y_score=stars_XGB_predict_proba[:,2], pos_label='Main Sequence')\n",
    "roc_auc = metrics.auc(fpr,tpr)\n",
    "roc_auc"
   ]
  },
  {
   "cell_type": "code",
   "execution_count": 24,
   "id": "ff175ba1",
   "metadata": {},
   "outputs": [
    {
     "data": {
      "text/plain": [
       "<sklearn.metrics._plot.roc_curve.RocCurveDisplay at 0x29b56a0fc70>"
      ]
     },
     "execution_count": 24,
     "metadata": {},
     "output_type": "execute_result"
    },
    {
     "data": {
      "image/png": "[encoded data removed]",
      "text/plain": [
       "<Figure size 432x288 with 1 Axes>"
      ]
     },
     "metadata": {
      "needs_background": "light"
     },
     "output_type": "display_data"
    }
   ],
   "source": [
    "display = metrics.RocCurveDisplay(fpr=fpr, tpr=tpr, roc_auc=roc_auc)\n",
    "display.plot()"
   ]
  },
  {
   "cell_type": "code",
   "execution_count": 25,
   "id": "6c95d394",
   "metadata": {},
   "outputs": [],
   "source": [
    "main_sequence = stars\n",
    "main_sequence['Star type'].replace('Brown Dwarf', 'Not Main Sequence', inplace=True)\n",
    "main_sequence['Star type'].replace('Red Dwarf ', 'Not Main Sequence', inplace=True)\n",
    "main_sequence['Star type'].replace('White Dwarf', 'Not Main Sequence', inplace=True)\n",
    "main_sequence['Star type'].replace('Supergiant', 'Not Main Sequence', inplace=True)\n",
    "main_sequence['Star type'].replace('Hypergiant', 'Not Main Sequence', inplace=True)"
   ]
  },
  {
   "cell_type": "code",
   "execution_count": 26,
   "id": "bf830f52",
   "metadata": {},
   "outputs": [],
   "source": [
    "from sklearn import model_selection\n",
    "train_x, test_x, train_y, test_y = model_selection.train_test_split(main_sequence[['Temperature (K)','Luminosity(L/Lo)', 'Radius(R/Ro)', 'Absolute magnitude(Mv)']], main_sequence['Star type'], test_size=0.3)"
   ]
  },
  {
   "cell_type": "code",
   "execution_count": 27,
   "id": "19e6575a",
   "metadata": {},
   "outputs": [
    {
     "name": "stdout",
     "output_type": "stream",
     "text": [
      "[14:59:08] WARNING: ..\\src\\learner.cc:1115: Starting in XGBoost 1.3.0, the default evaluation metric used with the objective 'binary:logistic' was changed from 'error' to 'logloss'. Explicitly set eval_metric if you'd like to restore the old behavior.\n"
     ]
    },
    {
     "name": "stderr",
     "output_type": "stream",
     "text": [
      "C:\\Users\\0\\anaconda3\\lib\\site-packages\\xgboost\\sklearn.py:1224: UserWarning: The use of label encoder in XGBClassifier is deprecated and will be removed in a future release. To remove this warning, do the following: 1) Pass option use_label_encoder=False when constructing XGBClassifier object; and 2) Encode your labels (y) as integers starting with 0, i.e. 0, 1, 2, ..., [num_class - 1].\n",
      "  warnings.warn(label_encoder_deprecation_msg, UserWarning)\n"
     ]
    }
   ],
   "source": [
    "main_sequence_XGB = XGBClassifier().fit(train_x, train_y)"
   ]
  },
  {
   "cell_type": "code",
   "execution_count": 28,
   "id": "680cf818",
   "metadata": {},
   "outputs": [
    {
     "data": {
      "text/plain": [
       "array(['Not Main Sequence', 'Not Main Sequence', 'Main Sequence',\n",
       "       'Not Main Sequence', 'Not Main Sequence', 'Not Main Sequence',\n",
       "       'Not Main Sequence', 'Not Main Sequence', 'Not Main Sequence',\n",
       "       'Not Main Sequence', 'Main Sequence', 'Not Main Sequence',\n",
       "       'Not Main Sequence', 'Not Main Sequence', 'Not Main Sequence',\n",
       "       'Not Main Sequence', 'Not Main Sequence', 'Not Main Sequence',\n",
       "       'Not Main Sequence', 'Not Main Sequence', 'Not Main Sequence',\n",
       "       'Not Main Sequence', 'Not Main Sequence', 'Not Main Sequence',\n",
       "       'Not Main Sequence', 'Main Sequence', 'Main Sequence',\n",
       "       'Not Main Sequence', 'Not Main Sequence', 'Not Main Sequence',\n",
       "       'Main Sequence', 'Main Sequence', 'Not Main Sequence',\n",
       "       'Not Main Sequence', 'Main Sequence', 'Main Sequence',\n",
       "       'Not Main Sequence', 'Not Main Sequence', 'Not Main Sequence',\n",
       "       'Not Main Sequence', 'Not Main Sequence', 'Main Sequence',\n",
       "       'Main Sequence', 'Main Sequence', 'Not Main Sequence',\n",
       "       'Not Main Sequence', 'Not Main Sequence', 'Not Main Sequence',\n",
       "       'Not Main Sequence', 'Not Main Sequence', 'Not Main Sequence',\n",
       "       'Not Main Sequence', 'Not Main Sequence', 'Not Main Sequence',\n",
       "       'Main Sequence', 'Main Sequence', 'Not Main Sequence',\n",
       "       'Not Main Sequence', 'Main Sequence', 'Not Main Sequence',\n",
       "       'Not Main Sequence', 'Not Main Sequence', 'Not Main Sequence',\n",
       "       'Not Main Sequence', 'Not Main Sequence', 'Not Main Sequence',\n",
       "       'Not Main Sequence', 'Not Main Sequence', 'Main Sequence',\n",
       "       'Not Main Sequence', 'Not Main Sequence', 'Not Main Sequence'],\n",
       "      dtype=object)"
      ]
     },
     "execution_count": 28,
     "metadata": {},
     "output_type": "execute_result"
    }
   ],
   "source": [
    "main_sequence_XGB_predict = main_sequence_XGB.predict(test_x)\n",
    "main_sequence_XGB_predict"
   ]
  },
  {
   "cell_type": "code",
   "execution_count": 29,
   "id": "ef0d636d",
   "metadata": {},
   "outputs": [
    {
     "name": "stdout",
     "output_type": "stream",
     "text": [
      "                   precision    recall  f1-score   support\n",
      "\n",
      "    Main Sequence       1.00      1.00      1.00        15\n",
      "Not Main Sequence       1.00      1.00      1.00        57\n",
      "\n",
      "         accuracy                           1.00        72\n",
      "        macro avg       1.00      1.00      1.00        72\n",
      "     weighted avg       1.00      1.00      1.00        72\n",
      "\n"
     ]
    }
   ],
   "source": [
    "print(metrics.classification_report(test_y, main_sequence_XGB_predict))"
   ]
  },
  {
   "cell_type": "code",
   "execution_count": 30,
   "id": "6b0743f9",
   "metadata": {},
   "outputs": [
    {
     "data": {
      "text/plain": [
       "array([[0.00805104, 0.99194896],\n",
       "       [0.00774276, 0.99225724],\n",
       "       [0.9819428 , 0.01805723],\n",
       "       [0.01619142, 0.9838086 ],\n",
       "       [0.01230222, 0.9876978 ],\n",
       "       [0.00774276, 0.99225724],\n",
       "       [0.00774276, 0.99225724],\n",
       "       [0.01230222, 0.9876978 ],\n",
       "       [0.01230222, 0.9876978 ],\n",
       "       [0.00505912, 0.9949409 ],\n",
       "       [0.95665926, 0.04334075],\n",
       "       [0.0120278 , 0.9879722 ],\n",
       "       [0.01709723, 0.98290277],\n",
       "       [0.01230222, 0.9876978 ],\n",
       "       [0.01619142, 0.9838086 ],\n",
       "       [0.00787067, 0.9921293 ],\n",
       "       [0.00505912, 0.9949409 ],\n",
       "       [0.00505912, 0.9949409 ],\n",
       "       [0.01619142, 0.9838086 ],\n",
       "       [0.00505912, 0.9949409 ],\n",
       "       [0.01619142, 0.9838086 ],\n",
       "       [0.00774276, 0.99225724],\n",
       "       [0.00505912, 0.9949409 ],\n",
       "       [0.00505912, 0.9949409 ],\n",
       "       [0.00805104, 0.99194896],\n",
       "       [0.95665926, 0.04334075],\n",
       "       [0.9409986 , 0.05900141],\n",
       "       [0.01020557, 0.98979443],\n",
       "       [0.01230222, 0.9876978 ],\n",
       "       [0.00787067, 0.9921293 ],\n",
       "       [0.9672564 , 0.0327436 ],\n",
       "       [0.94967306, 0.05032695],\n",
       "       [0.01230222, 0.9876978 ],\n",
       "       [0.01230222, 0.9876978 ],\n",
       "       [0.9672564 , 0.0327436 ],\n",
       "       [0.94950163, 0.05049836],\n",
       "       [0.00505912, 0.9949409 ],\n",
       "       [0.00805104, 0.99194896],\n",
       "       [0.00505912, 0.9949409 ],\n",
       "       [0.01022607, 0.9897739 ],\n",
       "       [0.00805104, 0.99194896],\n",
       "       [0.9672564 , 0.0327436 ],\n",
       "       [0.96327543, 0.03672455],\n",
       "       [0.9439729 , 0.05602709],\n",
       "       [0.00774276, 0.99225724],\n",
       "       [0.00505912, 0.9949409 ],\n",
       "       [0.00505912, 0.9949409 ],\n",
       "       [0.01230222, 0.9876978 ],\n",
       "       [0.00505912, 0.9949409 ],\n",
       "       [0.00505912, 0.9949409 ],\n",
       "       [0.00805104, 0.99194896],\n",
       "       [0.00505912, 0.9949409 ],\n",
       "       [0.00774276, 0.99225724],\n",
       "       [0.00805104, 0.99194896],\n",
       "       [0.95665926, 0.04334075],\n",
       "       [0.9672564 , 0.0327436 ],\n",
       "       [0.01709723, 0.98290277],\n",
       "       [0.01619142, 0.9838086 ],\n",
       "       [0.9819428 , 0.01805723],\n",
       "       [0.00774276, 0.99225724],\n",
       "       [0.00505912, 0.9949409 ],\n",
       "       [0.00774276, 0.99225724],\n",
       "       [0.00505912, 0.9949409 ],\n",
       "       [0.00505912, 0.9949409 ],\n",
       "       [0.00774276, 0.99225724],\n",
       "       [0.00505912, 0.9949409 ],\n",
       "       [0.00898701, 0.991013  ],\n",
       "       [0.01230222, 0.9876978 ],\n",
       "       [0.9819428 , 0.01805723],\n",
       "       [0.00805104, 0.99194896],\n",
       "       [0.00787067, 0.9921293 ],\n",
       "       [0.00787067, 0.9921293 ]], dtype=float32)"
      ]
     },
     "execution_count": 30,
     "metadata": {},
     "output_type": "execute_result"
    }
   ],
   "source": [
    "main_sequence_predict_proba = main_sequence_XGB.predict_proba(test_x)\n",
    "main_sequence_predict_proba"
   ]
  },
  {
   "cell_type": "code",
   "execution_count": 31,
   "id": "f5700e3b",
   "metadata": {},
   "outputs": [
    {
     "data": {
      "text/plain": [
       "1.0"
      ]
     },
     "execution_count": 31,
     "metadata": {},
     "output_type": "execute_result"
    }
   ],
   "source": [
    "fpr, tpr, treshold = metrics.roc_curve(y_true=test_y, y_score=main_sequence_predict_proba[:,0], pos_label='Main Sequence')\n",
    "roc_auc = metrics.auc(fpr,tpr)\n",
    "roc_auc"
   ]
  },
  {
   "cell_type": "code",
   "execution_count": 32,
   "id": "d110a8d1",
   "metadata": {},
   "outputs": [
    {
     "data": {
      "text/plain": [
       "<sklearn.metrics._plot.roc_curve.RocCurveDisplay at 0x29b53f64df0>"
      ]
     },
     "execution_count": 32,
     "metadata": {},
     "output_type": "execute_result"
    },
    {
     "data": {
      "image/png": "[encoded data removed]",
      "text/plain": [
       "<Figure size 432x288 with 1 Axes>"
      ]
     },
     "metadata": {
      "needs_background": "light"
     },
     "output_type": "display_data"
    }
   ],
   "source": [
    "display = metrics.RocCurveDisplay(fpr=fpr, tpr=tpr, roc_auc=roc_auc)\n",
    "display.plot()"
   ]
  },
  {
   "cell_type": "code",
   "execution_count": 43,
   "id": "21dcefa1",
   "metadata": {},
   "outputs": [
    {
     "data": {
      "text/plain": [
       "array(['Not Main Sequence', 'Not Main Sequence', 'Not Main Sequence',\n",
       "       'Not Main Sequence', 'Not Main Sequence', 'Not Main Sequence',\n",
       "       'Not Main Sequence', 'Not Main Sequence', 'Not Main Sequence',\n",
       "       'Not Main Sequence', 'Not Main Sequence', 'Not Main Sequence',\n",
       "       'Not Main Sequence', 'Not Main Sequence', 'Not Main Sequence',\n",
       "       'Not Main Sequence', 'Not Main Sequence', 'Not Main Sequence',\n",
       "       'Not Main Sequence', 'Not Main Sequence', 'Not Main Sequence',\n",
       "       'Not Main Sequence', 'Not Main Sequence', 'Not Main Sequence',\n",
       "       'Not Main Sequence', 'Not Main Sequence', 'Not Main Sequence',\n",
       "       'Not Main Sequence', 'Not Main Sequence', 'Not Main Sequence',\n",
       "       'Not Main Sequence', 'Not Main Sequence', 'Not Main Sequence',\n",
       "       'Not Main Sequence', 'Not Main Sequence', 'Not Main Sequence',\n",
       "       'Not Main Sequence', 'Not Main Sequence', 'Not Main Sequence',\n",
       "       'Not Main Sequence', 'Not Main Sequence', 'Not Main Sequence',\n",
       "       'Not Main Sequence', 'Not Main Sequence', 'Not Main Sequence',\n",
       "       'Not Main Sequence', 'Not Main Sequence', 'Not Main Sequence',\n",
       "       'Not Main Sequence', 'Not Main Sequence', 'Not Main Sequence',\n",
       "       'Not Main Sequence', 'Not Main Sequence', 'Not Main Sequence',\n",
       "       'Not Main Sequence', 'Not Main Sequence', 'Not Main Sequence',\n",
       "       'Not Main Sequence', 'Not Main Sequence', 'Not Main Sequence',\n",
       "       'Not Main Sequence', 'Not Main Sequence', 'Not Main Sequence',\n",
       "       'Not Main Sequence', 'Not Main Sequence', 'Not Main Sequence',\n",
       "       'Not Main Sequence', 'Not Main Sequence', 'Not Main Sequence',\n",
       "       'Not Main Sequence', 'Not Main Sequence', 'Not Main Sequence'],\n",
       "      dtype='<U17')"
      ]
     },
     "execution_count": 43,
     "metadata": {},
     "output_type": "execute_result"
    }
   ],
   "source": [
    "main_sequence_predict_2=main_sequence_predict_proba[:,0].copy()\n",
    "main_sequence_predict_2 = np.where(main_sequence_predict_2 >=1, 'Main Sequence', 'Not Main Sequence')\n",
    "main_sequence_predict_2"
   ]
  },
  {
   "cell_type": "code",
   "execution_count": 44,
   "id": "03fc68d9",
   "metadata": {},
   "outputs": [
    {
     "name": "stdout",
     "output_type": "stream",
     "text": [
      "                   precision    recall  f1-score   support\n",
      "\n",
      "    Main Sequence       0.00      0.00      0.00        15\n",
      "Not Main Sequence       0.79      1.00      0.88        57\n",
      "\n",
      "         accuracy                           0.79        72\n",
      "        macro avg       0.40      0.50      0.44        72\n",
      "     weighted avg       0.63      0.79      0.70        72\n",
      "\n"
     ]
    },
    {
     "name": "stderr",
     "output_type": "stream",
     "text": [
      "C:\\Users\\0\\anaconda3\\lib\\site-packages\\sklearn\\metrics\\_classification.py:1248: UndefinedMetricWarning: Precision and F-score are ill-defined and being set to 0.0 in labels with no predicted samples. Use `zero_division` parameter to control this behavior.\n",
      "  _warn_prf(average, modifier, msg_start, len(result))\n",
      "C:\\Users\\0\\anaconda3\\lib\\site-packages\\sklearn\\metrics\\_classification.py:1248: UndefinedMetricWarning: Precision and F-score are ill-defined and being set to 0.0 in labels with no predicted samples. Use `zero_division` parameter to control this behavior.\n",
      "  _warn_prf(average, modifier, msg_start, len(result))\n",
      "C:\\Users\\0\\anaconda3\\lib\\site-packages\\sklearn\\metrics\\_classification.py:1248: UndefinedMetricWarning: Precision and F-score are ill-defined and being set to 0.0 in labels with no predicted samples. Use `zero_division` parameter to control this behavior.\n",
      "  _warn_prf(average, modifier, msg_start, len(result))\n"
     ]
    }
   ],
   "source": [
    "print(metrics.classification_report(test_y, main_sequence_predict_2))"
   ]
  }
 ],
 "metadata": {
  "kernelspec": {
   "display_name": "Python 3 (ipykernel)",
   "language": "python",
   "name": "python3"
  },
  "language_info": {
   "codemirror_mode": {
    "name": "ipython",
    "version": 3
   },
   "file_extension": ".py",
   "mimetype": "text/x-python",
   "name": "python",
   "nbconvert_exporter": "python",
   "pygments_lexer": "ipython3",
   "version": "3.9.7"
  }
 },
 "nbformat": 4,
 "nbformat_minor": 5
}
