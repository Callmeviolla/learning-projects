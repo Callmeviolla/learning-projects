{
 "cells": [
  {
   "cell_type": "code",
   "execution_count": 1,
   "id": "deeed308",
   "metadata": {},
   "outputs": [],
   "source": [
    "import numpy as np\n",
    "import pandas as pd\n",
    "from sklearn import metrics"
   ]
  },
  {
   "cell_type": "code",
   "execution_count": 2,
   "id": "cff1c4ef",
   "metadata": {},
   "outputs": [
    {
     "data": {
      "text/html": [
       "<div>\n",
       "<style scoped>\n",
       "    .dataframe tbody tr th:only-of-type {\n",
       "        vertical-align: middle;\n",
       "    }\n",
       "\n",
       "    .dataframe tbody tr th {\n",
       "        vertical-align: top;\n",
       "    }\n",
       "\n",
       "    .dataframe thead th {\n",
       "        text-align: right;\n",
       "    }\n",
       "</style>\n",
       "<table border=\"1\" class=\"dataframe\">\n",
       "  <thead>\n",
       "    <tr style=\"text-align: right;\">\n",
       "      <th></th>\n",
       "      <th>Temperature (K)</th>\n",
       "      <th>Luminosity(L/Lo)</th>\n",
       "      <th>Radius(R/Ro)</th>\n",
       "      <th>Absolute magnitude(Mv)</th>\n",
       "      <th>Star type</th>\n",
       "      <th>Star color</th>\n",
       "      <th>Spectral Class</th>\n",
       "    </tr>\n",
       "  </thead>\n",
       "  <tbody>\n",
       "    <tr>\n",
       "      <th>0</th>\n",
       "      <td>3068</td>\n",
       "      <td>0.002400</td>\n",
       "      <td>0.1700</td>\n",
       "      <td>16.12</td>\n",
       "      <td>0</td>\n",
       "      <td>Red</td>\n",
       "      <td>M</td>\n",
       "    </tr>\n",
       "    <tr>\n",
       "      <th>1</th>\n",
       "      <td>3042</td>\n",
       "      <td>0.000500</td>\n",
       "      <td>0.1542</td>\n",
       "      <td>16.60</td>\n",
       "      <td>0</td>\n",
       "      <td>Red</td>\n",
       "      <td>M</td>\n",
       "    </tr>\n",
       "    <tr>\n",
       "      <th>2</th>\n",
       "      <td>2600</td>\n",
       "      <td>0.000300</td>\n",
       "      <td>0.1020</td>\n",
       "      <td>18.70</td>\n",
       "      <td>0</td>\n",
       "      <td>Red</td>\n",
       "      <td>M</td>\n",
       "    </tr>\n",
       "    <tr>\n",
       "      <th>3</th>\n",
       "      <td>2800</td>\n",
       "      <td>0.000200</td>\n",
       "      <td>0.1600</td>\n",
       "      <td>16.65</td>\n",
       "      <td>0</td>\n",
       "      <td>Red</td>\n",
       "      <td>M</td>\n",
       "    </tr>\n",
       "    <tr>\n",
       "      <th>4</th>\n",
       "      <td>1939</td>\n",
       "      <td>0.000138</td>\n",
       "      <td>0.1030</td>\n",
       "      <td>20.06</td>\n",
       "      <td>0</td>\n",
       "      <td>Red</td>\n",
       "      <td>M</td>\n",
       "    </tr>\n",
       "    <tr>\n",
       "      <th>...</th>\n",
       "      <td>...</td>\n",
       "      <td>...</td>\n",
       "      <td>...</td>\n",
       "      <td>...</td>\n",
       "      <td>...</td>\n",
       "      <td>...</td>\n",
       "      <td>...</td>\n",
       "    </tr>\n",
       "    <tr>\n",
       "      <th>235</th>\n",
       "      <td>38940</td>\n",
       "      <td>374830.000000</td>\n",
       "      <td>1356.0000</td>\n",
       "      <td>-9.93</td>\n",
       "      <td>5</td>\n",
       "      <td>Blue</td>\n",
       "      <td>O</td>\n",
       "    </tr>\n",
       "    <tr>\n",
       "      <th>236</th>\n",
       "      <td>30839</td>\n",
       "      <td>834042.000000</td>\n",
       "      <td>1194.0000</td>\n",
       "      <td>-10.63</td>\n",
       "      <td>5</td>\n",
       "      <td>Blue</td>\n",
       "      <td>O</td>\n",
       "    </tr>\n",
       "    <tr>\n",
       "      <th>237</th>\n",
       "      <td>8829</td>\n",
       "      <td>537493.000000</td>\n",
       "      <td>1423.0000</td>\n",
       "      <td>-10.73</td>\n",
       "      <td>5</td>\n",
       "      <td>White</td>\n",
       "      <td>A</td>\n",
       "    </tr>\n",
       "    <tr>\n",
       "      <th>238</th>\n",
       "      <td>9235</td>\n",
       "      <td>404940.000000</td>\n",
       "      <td>1112.0000</td>\n",
       "      <td>-11.23</td>\n",
       "      <td>5</td>\n",
       "      <td>White</td>\n",
       "      <td>A</td>\n",
       "    </tr>\n",
       "    <tr>\n",
       "      <th>239</th>\n",
       "      <td>37882</td>\n",
       "      <td>294903.000000</td>\n",
       "      <td>1783.0000</td>\n",
       "      <td>-7.80</td>\n",
       "      <td>5</td>\n",
       "      <td>Blue</td>\n",
       "      <td>O</td>\n",
       "    </tr>\n",
       "  </tbody>\n",
       "</table>\n",
       "<p>240 rows × 7 columns</p>\n",
       "</div>"
      ],
      "text/plain": [
       "     Temperature (K)  Luminosity(L/Lo)  Radius(R/Ro)  Absolute magnitude(Mv)  \\\n",
       "0               3068          0.002400        0.1700                   16.12   \n",
       "1               3042          0.000500        0.1542                   16.60   \n",
       "2               2600          0.000300        0.1020                   18.70   \n",
       "3               2800          0.000200        0.1600                   16.65   \n",
       "4               1939          0.000138        0.1030                   20.06   \n",
       "..               ...               ...           ...                     ...   \n",
       "235            38940     374830.000000     1356.0000                   -9.93   \n",
       "236            30839     834042.000000     1194.0000                  -10.63   \n",
       "237             8829     537493.000000     1423.0000                  -10.73   \n",
       "238             9235     404940.000000     1112.0000                  -11.23   \n",
       "239            37882     294903.000000     1783.0000                   -7.80   \n",
       "\n",
       "     Star type Star color Spectral Class  \n",
       "0            0        Red              M  \n",
       "1            0        Red              M  \n",
       "2            0        Red              M  \n",
       "3            0        Red              M  \n",
       "4            0        Red              M  \n",
       "..         ...        ...            ...  \n",
       "235          5       Blue              O  \n",
       "236          5       Blue              O  \n",
       "237          5      White              A  \n",
       "238          5      White              A  \n",
       "239          5       Blue              O  \n",
       "\n",
       "[240 rows x 7 columns]"
      ]
     },
     "execution_count": 2,
     "metadata": {},
     "output_type": "execute_result"
    }
   ],
   "source": [
    "stars = pd.read_csv('6 class csv.csv')\n",
    "stars"
   ]
  },
  {
   "cell_type": "code",
   "execution_count": 3,
   "id": "7e4fca5f",
   "metadata": {},
   "outputs": [],
   "source": [
    "from sklearn.preprocessing import MinMaxScaler\n",
    "scaler = MinMaxScaler(feature_range=(0, 1))\n",
    "stars[['Temperature (K)','Luminosity(L/Lo)', 'Radius(R/Ro)', 'Absolute magnitude(Mv)']] = scaler.fit_transform(stars[['Temperature (K)','Luminosity(L/Lo)', 'Radius(R/Ro)', 'Absolute magnitude(Mv)']])"
   ]
  },
  {
   "cell_type": "code",
   "execution_count": 4,
   "id": "d9d25365",
   "metadata": {},
   "outputs": [],
   "source": [
    "del stars['Star color']\n",
    "del stars['Spectral Class']\n",
    "del stars['Star type']"
   ]
  },
  {
   "cell_type": "code",
   "execution_count": 5,
   "id": "5549110a",
   "metadata": {},
   "outputs": [],
   "source": [
    "from sklearn.cluster import KMeans"
   ]
  },
  {
   "cell_type": "code",
   "execution_count": 6,
   "id": "0767b458",
   "metadata": {},
   "outputs": [
    {
     "data": {
      "text/plain": [
       "array([1, 1, 1, 1, 1, 1, 1, 1, 1, 1, 1, 1, 1, 1, 1, 1, 1, 1, 1, 1, 1, 1,\n",
       "       1, 1, 1, 1, 1, 1, 1, 1, 0, 0, 0, 1, 1, 1, 1, 1, 1, 1, 0, 0, 0, 0,\n",
       "       0, 0, 0, 0, 0, 0, 0, 0, 0, 0, 0, 0, 0, 0, 0, 0, 1, 1, 1, 1, 1, 1,\n",
       "       1, 1, 1, 1, 1, 1, 1, 1, 1, 1, 1, 1, 1, 1, 1, 1, 1, 1, 1, 1, 1, 1,\n",
       "       1, 1, 1, 1, 1, 1, 1, 0, 1, 1, 1, 0, 0, 0, 0, 0, 0, 0, 0, 0, 0, 0,\n",
       "       0, 0, 0, 0, 0, 0, 0, 0, 0, 0, 1, 1, 1, 1, 1, 1, 1, 1, 1, 1, 1, 1,\n",
       "       1, 1, 1, 1, 1, 1, 1, 1, 1, 1, 1, 1, 1, 1, 1, 1, 1, 1, 0, 1, 0, 0,\n",
       "       0, 0, 0, 0, 0, 0, 0, 0, 0, 0, 0, 0, 0, 0, 0, 0, 0, 0, 0, 0, 0, 0,\n",
       "       0, 0, 0, 0, 1, 1, 1, 1, 1, 1, 1, 1, 1, 1, 1, 1, 1, 1, 1, 1, 1, 1,\n",
       "       1, 1, 1, 1, 1, 1, 1, 1, 1, 1, 1, 1, 0, 1, 1, 0, 0, 0, 1, 0, 0, 1,\n",
       "       0, 0, 0, 0, 0, 0, 0, 0, 0, 0, 0, 0, 0, 0, 0, 0, 0, 0, 0, 0])"
      ]
     },
     "execution_count": 6,
     "metadata": {},
     "output_type": "execute_result"
    }
   ],
   "source": [
    "stars_KMeans_2 = KMeans(n_clusters=2, random_state=123).fit(stars)\n",
    "stars_KMeans_2.labels_"
   ]
  },
  {
   "cell_type": "code",
   "execution_count": 7,
   "id": "802258fb",
   "metadata": {},
   "outputs": [
    {
     "data": {
      "text/plain": [
       "32.98909879461524"
      ]
     },
     "execution_count": 7,
     "metadata": {},
     "output_type": "execute_result"
    }
   ],
   "source": [
    "stars_KMeans_2.inertia_"
   ]
  },
  {
   "cell_type": "code",
   "execution_count": 8,
   "id": "7b078dd6",
   "metadata": {},
   "outputs": [
    {
     "data": {
      "text/plain": [
       "20.014438534246953"
      ]
     },
     "execution_count": 8,
     "metadata": {},
     "output_type": "execute_result"
    }
   ],
   "source": [
    "stars_KMeans_3 = KMeans(n_clusters=3, random_state=123).fit(stars)\n",
    "stars_KMeans_3.labels_\n",
    "stars_KMeans_3.inertia_"
   ]
  },
  {
   "cell_type": "code",
   "execution_count": 9,
   "id": "50b34f56",
   "metadata": {},
   "outputs": [
    {
     "name": "stderr",
     "output_type": "stream",
     "text": [
      "C:\\Users\\0\\anaconda3\\lib\\site-packages\\sklearn\\cluster\\_kmeans.py:881: UserWarning: KMeans is known to have a memory leak on Windows with MKL, when there are less chunks than available threads. You can avoid it by setting the environment variable OMP_NUM_THREADS=1.\n",
      "  warnings.warn(\n"
     ]
    }
   ],
   "source": [
    "inertia =[]\n",
    "for k in range(1, 10):\n",
    "    stars_KMeans = KMeans(n_clusters=k, random_state=123).fit(stars)\n",
    "    inertia.append(stars_KMeans.inertia_)"
   ]
  },
  {
   "cell_type": "code",
   "execution_count": 10,
   "id": "020a15a5",
   "metadata": {},
   "outputs": [
    {
     "data": {
      "text/plain": [
       "[68.47963049549084,\n",
       " 32.98909879461524,\n",
       " 20.014438534246953,\n",
       " 16.234962057371963,\n",
       " 12.41265073329212,\n",
       " 9.765844676472888,\n",
       " 7.834458780872541,\n",
       " 6.524290108185132,\n",
       " 5.9050166441687235]"
      ]
     },
     "execution_count": 10,
     "metadata": {},
     "output_type": "execute_result"
    }
   ],
   "source": [
    "inertia"
   ]
  },
  {
   "cell_type": "code",
   "execution_count": 11,
   "id": "e5e1901d",
   "metadata": {},
   "outputs": [
    {
     "data": {
      "text/plain": [
       "Text(0, 0.5, 'Сумма квадратов расстояний')"
      ]
     },
     "execution_count": 11,
     "metadata": {},
     "output_type": "execute_result"
    },
    {
     "data": {
      "image/png": "[encoded data removed]",
      "text/plain": [
       "<Figure size 432x288 with 1 Axes>"
      ]
     },
     "metadata": {
      "needs_background": "light"
     },
     "output_type": "display_data"
    }
   ],
   "source": [
    "import matplotlib.pyplot as plt\n",
    "plt.plot(range(1,10), inertia, marker='s')\n",
    "plt.xlabel('Число кластеров')\n",
    "plt.ylabel('Сумма квадратов расстояний')"
   ]
  },
  {
   "cell_type": "code",
   "execution_count": 12,
   "id": "e9fd4d97",
   "metadata": {},
   "outputs": [
    {
     "data": {
      "text/plain": [
       "0      1\n",
       "1      1\n",
       "2      1\n",
       "3      1\n",
       "4      1\n",
       "      ..\n",
       "235    2\n",
       "236    2\n",
       "237    2\n",
       "238    2\n",
       "239    2\n",
       "Name: Clusters, Length: 240, dtype: int32"
      ]
     },
     "execution_count": 12,
     "metadata": {},
     "output_type": "execute_result"
    }
   ],
   "source": [
    "labels_3 = pd.Series(stars_KMeans_3.labels_, index=stars.index, name='Clusters')\n",
    "labels_3"
   ]
  },
  {
   "cell_type": "code",
   "execution_count": 13,
   "id": "712e2a72",
   "metadata": {},
   "outputs": [
    {
     "data": {
      "text/html": [
       "<div>\n",
       "<style scoped>\n",
       "    .dataframe tbody tr th:only-of-type {\n",
       "        vertical-align: middle;\n",
       "    }\n",
       "\n",
       "    .dataframe tbody tr th {\n",
       "        vertical-align: top;\n",
       "    }\n",
       "\n",
       "    .dataframe thead th {\n",
       "        text-align: right;\n",
       "    }\n",
       "</style>\n",
       "<table border=\"1\" class=\"dataframe\">\n",
       "  <thead>\n",
       "    <tr style=\"text-align: right;\">\n",
       "      <th></th>\n",
       "      <th>Temperature (K)</th>\n",
       "      <th>Luminosity(L/Lo)</th>\n",
       "      <th>Radius(R/Ro)</th>\n",
       "      <th>Absolute magnitude(Mv)</th>\n",
       "      <th>Clusters</th>\n",
       "    </tr>\n",
       "  </thead>\n",
       "  <tbody>\n",
       "    <tr>\n",
       "      <th>0</th>\n",
       "      <td>0.029663</td>\n",
       "      <td>2.731275e-09</td>\n",
       "      <td>0.000083</td>\n",
       "      <td>0.876798</td>\n",
       "      <td>1</td>\n",
       "    </tr>\n",
       "    <tr>\n",
       "      <th>1</th>\n",
       "      <td>0.028980</td>\n",
       "      <td>4.944550e-10</td>\n",
       "      <td>0.000075</td>\n",
       "      <td>0.891807</td>\n",
       "      <td>1</td>\n",
       "    </tr>\n",
       "    <tr>\n",
       "      <th>2</th>\n",
       "      <td>0.017367</td>\n",
       "      <td>2.590003e-10</td>\n",
       "      <td>0.000048</td>\n",
       "      <td>0.957473</td>\n",
       "      <td>1</td>\n",
       "    </tr>\n",
       "    <tr>\n",
       "      <th>3</th>\n",
       "      <td>0.022622</td>\n",
       "      <td>1.412729e-10</td>\n",
       "      <td>0.000078</td>\n",
       "      <td>0.893371</td>\n",
       "      <td>1</td>\n",
       "    </tr>\n",
       "    <tr>\n",
       "      <th>4</th>\n",
       "      <td>0.000000</td>\n",
       "      <td>6.828189e-11</td>\n",
       "      <td>0.000049</td>\n",
       "      <td>1.000000</td>\n",
       "      <td>1</td>\n",
       "    </tr>\n",
       "    <tr>\n",
       "      <th>...</th>\n",
       "      <td>...</td>\n",
       "      <td>...</td>\n",
       "      <td>...</td>\n",
       "      <td>...</td>\n",
       "      <td>...</td>\n",
       "    </tr>\n",
       "    <tr>\n",
       "      <th>235</th>\n",
       "      <td>0.972150</td>\n",
       "      <td>4.412776e-01</td>\n",
       "      <td>0.695919</td>\n",
       "      <td>0.062226</td>\n",
       "      <td>2</td>\n",
       "    </tr>\n",
       "    <tr>\n",
       "      <th>236</th>\n",
       "      <td>0.759307</td>\n",
       "      <td>9.818959e-01</td>\n",
       "      <td>0.612777</td>\n",
       "      <td>0.040338</td>\n",
       "      <td>2</td>\n",
       "    </tr>\n",
       "    <tr>\n",
       "      <th>237</th>\n",
       "      <td>0.181025</td>\n",
       "      <td>6.327765e-01</td>\n",
       "      <td>0.730304</td>\n",
       "      <td>0.037211</td>\n",
       "      <td>2</td>\n",
       "    </tr>\n",
       "    <tr>\n",
       "      <th>238</th>\n",
       "      <td>0.191692</td>\n",
       "      <td>4.767253e-01</td>\n",
       "      <td>0.570694</td>\n",
       "      <td>0.021576</td>\n",
       "      <td>2</td>\n",
       "    </tr>\n",
       "    <tr>\n",
       "      <th>239</th>\n",
       "      <td>0.944352</td>\n",
       "      <td>3.471816e-01</td>\n",
       "      <td>0.915063</td>\n",
       "      <td>0.128831</td>\n",
       "      <td>2</td>\n",
       "    </tr>\n",
       "  </tbody>\n",
       "</table>\n",
       "<p>240 rows × 5 columns</p>\n",
       "</div>"
      ],
      "text/plain": [
       "     Temperature (K)  Luminosity(L/Lo)  Radius(R/Ro)  Absolute magnitude(Mv)  \\\n",
       "0           0.029663      2.731275e-09      0.000083                0.876798   \n",
       "1           0.028980      4.944550e-10      0.000075                0.891807   \n",
       "2           0.017367      2.590003e-10      0.000048                0.957473   \n",
       "3           0.022622      1.412729e-10      0.000078                0.893371   \n",
       "4           0.000000      6.828189e-11      0.000049                1.000000   \n",
       "..               ...               ...           ...                     ...   \n",
       "235         0.972150      4.412776e-01      0.695919                0.062226   \n",
       "236         0.759307      9.818959e-01      0.612777                0.040338   \n",
       "237         0.181025      6.327765e-01      0.730304                0.037211   \n",
       "238         0.191692      4.767253e-01      0.570694                0.021576   \n",
       "239         0.944352      3.471816e-01      0.915063                0.128831   \n",
       "\n",
       "     Clusters  \n",
       "0           1  \n",
       "1           1  \n",
       "2           1  \n",
       "3           1  \n",
       "4           1  \n",
       "..        ...  \n",
       "235         2  \n",
       "236         2  \n",
       "237         2  \n",
       "238         2  \n",
       "239         2  \n",
       "\n",
       "[240 rows x 5 columns]"
      ]
     },
     "execution_count": 13,
     "metadata": {},
     "output_type": "execute_result"
    }
   ],
   "source": [
    "stars_3 = pd.concat([stars, labels_3], axis=1)\n",
    "stars_3"
   ]
  },
  {
   "cell_type": "code",
   "execution_count": 14,
   "id": "b9750f76",
   "metadata": {},
   "outputs": [
    {
     "data": {
      "text/html": [
       "<div>\n",
       "<style scoped>\n",
       "    .dataframe tbody tr th:only-of-type {\n",
       "        vertical-align: middle;\n",
       "    }\n",
       "\n",
       "    .dataframe tbody tr th {\n",
       "        vertical-align: top;\n",
       "    }\n",
       "\n",
       "    .dataframe thead tr th {\n",
       "        text-align: left;\n",
       "    }\n",
       "\n",
       "    .dataframe thead tr:last-of-type th {\n",
       "        text-align: right;\n",
       "    }\n",
       "</style>\n",
       "<table border=\"1\" class=\"dataframe\">\n",
       "  <thead>\n",
       "    <tr>\n",
       "      <th></th>\n",
       "      <th colspan=\"8\" halign=\"left\">Temperature (K)</th>\n",
       "      <th colspan=\"2\" halign=\"left\">Luminosity(L/Lo)</th>\n",
       "      <th>...</th>\n",
       "      <th colspan=\"2\" halign=\"left\">Radius(R/Ro)</th>\n",
       "      <th colspan=\"8\" halign=\"left\">Absolute magnitude(Mv)</th>\n",
       "    </tr>\n",
       "    <tr>\n",
       "      <th></th>\n",
       "      <th>count</th>\n",
       "      <th>mean</th>\n",
       "      <th>std</th>\n",
       "      <th>min</th>\n",
       "      <th>25%</th>\n",
       "      <th>50%</th>\n",
       "      <th>75%</th>\n",
       "      <th>max</th>\n",
       "      <th>count</th>\n",
       "      <th>mean</th>\n",
       "      <th>...</th>\n",
       "      <th>75%</th>\n",
       "      <th>max</th>\n",
       "      <th>count</th>\n",
       "      <th>mean</th>\n",
       "      <th>std</th>\n",
       "      <th>min</th>\n",
       "      <th>25%</th>\n",
       "      <th>50%</th>\n",
       "      <th>75%</th>\n",
       "      <th>max</th>\n",
       "    </tr>\n",
       "    <tr>\n",
       "      <th>Clusters</th>\n",
       "      <th></th>\n",
       "      <th></th>\n",
       "      <th></th>\n",
       "      <th></th>\n",
       "      <th></th>\n",
       "      <th></th>\n",
       "      <th></th>\n",
       "      <th></th>\n",
       "      <th></th>\n",
       "      <th></th>\n",
       "      <th></th>\n",
       "      <th></th>\n",
       "      <th></th>\n",
       "      <th></th>\n",
       "      <th></th>\n",
       "      <th></th>\n",
       "      <th></th>\n",
       "      <th></th>\n",
       "      <th></th>\n",
       "      <th></th>\n",
       "      <th></th>\n",
       "    </tr>\n",
       "  </thead>\n",
       "  <tbody>\n",
       "    <tr>\n",
       "      <th>0</th>\n",
       "      <td>68.0</td>\n",
       "      <td>0.407869</td>\n",
       "      <td>0.268308</td>\n",
       "      <td>0.028086</td>\n",
       "      <td>0.201827</td>\n",
       "      <td>0.365046</td>\n",
       "      <td>0.590559</td>\n",
       "      <td>1.000000</td>\n",
       "      <td>68.0</td>\n",
       "      <td>2.332955e-01</td>\n",
       "      <td>...</td>\n",
       "      <td>0.029891</td>\n",
       "      <td>0.363816</td>\n",
       "      <td>68.0</td>\n",
       "      <td>0.220428</td>\n",
       "      <td>0.070769</td>\n",
       "      <td>0.127580</td>\n",
       "      <td>0.174406</td>\n",
       "      <td>0.189259</td>\n",
       "      <td>0.254925</td>\n",
       "      <td>0.411382</td>\n",
       "    </tr>\n",
       "    <tr>\n",
       "      <th>1</th>\n",
       "      <td>133.0</td>\n",
       "      <td>0.124434</td>\n",
       "      <td>0.146472</td>\n",
       "      <td>0.000000</td>\n",
       "      <td>0.030372</td>\n",
       "      <td>0.041302</td>\n",
       "      <td>0.174220</td>\n",
       "      <td>0.605896</td>\n",
       "      <td>133.0</td>\n",
       "      <td>6.154723e-07</td>\n",
       "      <td>...</td>\n",
       "      <td>0.000168</td>\n",
       "      <td>0.001345</td>\n",
       "      <td>133.0</td>\n",
       "      <td>0.786834</td>\n",
       "      <td>0.124484</td>\n",
       "      <td>0.418074</td>\n",
       "      <td>0.731395</td>\n",
       "      <td>0.785491</td>\n",
       "      <td>0.887117</td>\n",
       "      <td>1.000000</td>\n",
       "    </tr>\n",
       "    <tr>\n",
       "      <th>2</th>\n",
       "      <td>39.0</td>\n",
       "      <td>0.248257</td>\n",
       "      <td>0.314519</td>\n",
       "      <td>0.038359</td>\n",
       "      <td>0.043706</td>\n",
       "      <td>0.047634</td>\n",
       "      <td>0.473267</td>\n",
       "      <td>0.972150</td>\n",
       "      <td>39.0</td>\n",
       "      <td>3.697806e-01</td>\n",
       "      <td>...</td>\n",
       "      <td>0.784192</td>\n",
       "      <td>1.000000</td>\n",
       "      <td>39.0</td>\n",
       "      <td>0.069394</td>\n",
       "      <td>0.045095</td>\n",
       "      <td>0.000000</td>\n",
       "      <td>0.032208</td>\n",
       "      <td>0.062226</td>\n",
       "      <td>0.116010</td>\n",
       "      <td>0.135710</td>\n",
       "    </tr>\n",
       "  </tbody>\n",
       "</table>\n",
       "<p>3 rows × 32 columns</p>\n",
       "</div>"
      ],
      "text/plain": [
       "         Temperature (K)                                                    \\\n",
       "                   count      mean       std       min       25%       50%   \n",
       "Clusters                                                                     \n",
       "0                   68.0  0.407869  0.268308  0.028086  0.201827  0.365046   \n",
       "1                  133.0  0.124434  0.146472  0.000000  0.030372  0.041302   \n",
       "2                   39.0  0.248257  0.314519  0.038359  0.043706  0.047634   \n",
       "\n",
       "                             Luminosity(L/Lo)                ... Radius(R/Ro)  \\\n",
       "               75%       max            count          mean  ...          75%   \n",
       "Clusters                                                     ...                \n",
       "0         0.590559  1.000000             68.0  2.332955e-01  ...     0.029891   \n",
       "1         0.174220  0.605896            133.0  6.154723e-07  ...     0.000168   \n",
       "2         0.473267  0.972150             39.0  3.697806e-01  ...     0.784192   \n",
       "\n",
       "                   Absolute magnitude(Mv)                                \\\n",
       "               max                  count      mean       std       min   \n",
       "Clusters                                                                  \n",
       "0         0.363816                   68.0  0.220428  0.070769  0.127580   \n",
       "1         0.001345                  133.0  0.786834  0.124484  0.418074   \n",
       "2         1.000000                   39.0  0.069394  0.045095  0.000000   \n",
       "\n",
       "                                                  \n",
       "               25%       50%       75%       max  \n",
       "Clusters                                          \n",
       "0         0.174406  0.189259  0.254925  0.411382  \n",
       "1         0.731395  0.785491  0.887117  1.000000  \n",
       "2         0.032208  0.062226  0.116010  0.135710  \n",
       "\n",
       "[3 rows x 32 columns]"
      ]
     },
     "execution_count": 14,
     "metadata": {},
     "output_type": "execute_result"
    }
   ],
   "source": [
    "stars_3.groupby('Clusters').describe()"
   ]
  },
  {
   "cell_type": "code",
   "execution_count": 15,
   "id": "0f6739a8",
   "metadata": {},
   "outputs": [
    {
     "data": {
      "text/html": [
       "<div>\n",
       "<style scoped>\n",
       "    .dataframe tbody tr th:only-of-type {\n",
       "        vertical-align: middle;\n",
       "    }\n",
       "\n",
       "    .dataframe tbody tr th {\n",
       "        vertical-align: top;\n",
       "    }\n",
       "\n",
       "    .dataframe thead th {\n",
       "        text-align: right;\n",
       "    }\n",
       "</style>\n",
       "<table border=\"1\" class=\"dataframe\">\n",
       "  <thead>\n",
       "    <tr style=\"text-align: right;\">\n",
       "      <th></th>\n",
       "      <th>Temperature (K)</th>\n",
       "      <th>Luminosity(L/Lo)</th>\n",
       "      <th>Radius(R/Ro)</th>\n",
       "      <th>Absolute magnitude(Mv)</th>\n",
       "    </tr>\n",
       "    <tr>\n",
       "      <th>Clusters</th>\n",
       "      <th></th>\n",
       "      <th></th>\n",
       "      <th></th>\n",
       "      <th></th>\n",
       "    </tr>\n",
       "  </thead>\n",
       "  <tbody>\n",
       "    <tr>\n",
       "      <th>0</th>\n",
       "      <td>0.407869</td>\n",
       "      <td>2.332955e-01</td>\n",
       "      <td>0.022009</td>\n",
       "      <td>0.220428</td>\n",
       "    </tr>\n",
       "    <tr>\n",
       "      <th>1</th>\n",
       "      <td>0.124434</td>\n",
       "      <td>6.154723e-07</td>\n",
       "      <td>0.000128</td>\n",
       "      <td>0.786834</td>\n",
       "    </tr>\n",
       "    <tr>\n",
       "      <th>2</th>\n",
       "      <td>0.248257</td>\n",
       "      <td>3.697806e-01</td>\n",
       "      <td>0.710170</td>\n",
       "      <td>0.069394</td>\n",
       "    </tr>\n",
       "  </tbody>\n",
       "</table>\n",
       "</div>"
      ],
      "text/plain": [
       "          Temperature (K)  Luminosity(L/Lo)  Radius(R/Ro)  \\\n",
       "Clusters                                                    \n",
       "0                0.407869      2.332955e-01      0.022009   \n",
       "1                0.124434      6.154723e-07      0.000128   \n",
       "2                0.248257      3.697806e-01      0.710170   \n",
       "\n",
       "          Absolute magnitude(Mv)  \n",
       "Clusters                          \n",
       "0                       0.220428  \n",
       "1                       0.786834  \n",
       "2                       0.069394  "
      ]
     },
     "execution_count": 15,
     "metadata": {},
     "output_type": "execute_result"
    }
   ],
   "source": [
    "stars_3.groupby('Clusters').mean()"
   ]
  },
  {
   "cell_type": "code",
   "execution_count": 16,
   "id": "3f2df0b1",
   "metadata": {},
   "outputs": [
    {
     "data": {
      "text/plain": [
       "{0: [30, 31, 32, 33, 40, 41, 42, 43, 44, 45, 46, 47, 48, 49, 95, 98, 99, 100, 101, 102, 103, 104, 105, 106, 107, 108, 109, 150, 151, 152, 153, 154, 155, 156, 157, 158, 159, 160, 161, 162, 163, 164, 165, 166, 167, 168, 169, 178, 210, 211, 212, 213, 214, 215, 216, 217, 218, 219, 220, 221, 222, 223, 224, 225, 226, 227, 228, 229], 1: [0, 1, 2, 3, 4, 5, 6, 7, 8, 9, 10, 11, 12, 13, 14, 15, 16, 17, 18, 19, 20, 21, 22, 23, 24, 25, 26, 27, 28, 29, 34, 35, 36, 37, 38, 39, 60, 61, 62, 63, 64, 65, 66, 67, 68, 69, 70, 71, 72, 73, 74, 75, 76, 77, 78, 79, 80, 81, 82, 83, 84, 85, 86, 87, 88, 89, 90, 91, 92, 93, 94, 96, 97, 120, 121, 122, 123, 124, 125, 126, 127, 128, 129, 130, 131, 132, 133, 134, 135, 136, 137, 138, 139, 140, 141, 142, 143, 144, 145, 146, ...], 2: [50, 51, 52, 53, 54, 55, 56, 57, 58, 59, 110, 111, 112, 113, 114, 115, 116, 117, 118, 119, 170, 171, 172, 173, 174, 175, 176, 177, 179, 230, 231, 232, 233, 234, 235, 236, 237, 238, 239]}"
      ]
     },
     "execution_count": 16,
     "metadata": {},
     "output_type": "execute_result"
    }
   ],
   "source": [
    "stars_3.groupby('Clusters').groups"
   ]
  },
  {
   "cell_type": "code",
   "execution_count": 17,
   "id": "6929f4b5",
   "metadata": {},
   "outputs": [],
   "source": [
    "from scipy.cluster.hierarchy import linkage"
   ]
  },
  {
   "cell_type": "code",
   "execution_count": 18,
   "id": "ccd48952",
   "metadata": {},
   "outputs": [],
   "source": [
    "Z = linkage(stars, method='ward')"
   ]
  },
  {
   "cell_type": "code",
   "execution_count": 19,
   "id": "ceb27b39",
   "metadata": {},
   "outputs": [],
   "source": [
    "from scipy.cluster.hierarchy import dendrogram"
   ]
  },
  {
   "cell_type": "code",
   "execution_count": 20,
   "id": "b37f6e60",
   "metadata": {},
   "outputs": [
    {
     "data": {
      "image/png": "[encoded data removed]",
      "text/plain": [
       "<Figure size 432x288 with 1 Axes>"
      ]
     },
     "metadata": {
      "needs_background": "light"
     },
     "output_type": "display_data"
    }
   ],
   "source": [
    "dn = dendrogram(Z, leaf_rotation=90)"
   ]
  },
  {
   "cell_type": "code",
   "execution_count": 21,
   "id": "d5564350",
   "metadata": {},
   "outputs": [
    {
     "data": {
      "image/png": "[encoded data removed]",
      "text/plain": [
       "<Figure size 432x288 with 1 Axes>"
      ]
     },
     "metadata": {
      "needs_background": "light"
     },
     "output_type": "display_data"
    }
   ],
   "source": [
    "Z_1 = dendrogram(Z,truncate_mode='level',p=3,show_contracted=True)"
   ]
  },
  {
   "cell_type": "code",
   "execution_count": 22,
   "id": "e8f9214c",
   "metadata": {},
   "outputs": [],
   "source": [
    "from sklearn.cluster import AgglomerativeClustering"
   ]
  },
  {
   "cell_type": "code",
   "execution_count": 23,
   "id": "2c49ed8b",
   "metadata": {},
   "outputs": [
    {
     "data": {
      "text/plain": [
       "AgglomerativeClustering()"
      ]
     },
     "execution_count": 23,
     "metadata": {},
     "output_type": "execute_result"
    }
   ],
   "source": [
    "stars_AC = AgglomerativeClustering(n_clusters=2).fit(stars)\n",
    "stars_AC"
   ]
  },
  {
   "cell_type": "code",
   "execution_count": 24,
   "id": "add11f6e",
   "metadata": {},
   "outputs": [
    {
     "data": {
      "text/plain": [
       "0      1\n",
       "1      1\n",
       "2      1\n",
       "3      1\n",
       "4      1\n",
       "      ..\n",
       "235    0\n",
       "236    0\n",
       "237    0\n",
       "238    0\n",
       "239    0\n",
       "Name: Clusters, Length: 240, dtype: int64"
      ]
     },
     "execution_count": 24,
     "metadata": {},
     "output_type": "execute_result"
    }
   ],
   "source": [
    "labels_AC_3 = pd.Series(stars_AC.labels_, index=stars.index, name='Clusters')\n",
    "labels_AC_3"
   ]
  },
  {
   "cell_type": "code",
   "execution_count": 25,
   "id": "eaae176f",
   "metadata": {},
   "outputs": [
    {
     "data": {
      "text/html": [
       "<div>\n",
       "<style scoped>\n",
       "    .dataframe tbody tr th:only-of-type {\n",
       "        vertical-align: middle;\n",
       "    }\n",
       "\n",
       "    .dataframe tbody tr th {\n",
       "        vertical-align: top;\n",
       "    }\n",
       "\n",
       "    .dataframe thead th {\n",
       "        text-align: right;\n",
       "    }\n",
       "</style>\n",
       "<table border=\"1\" class=\"dataframe\">\n",
       "  <thead>\n",
       "    <tr style=\"text-align: right;\">\n",
       "      <th></th>\n",
       "      <th>Temperature (K)</th>\n",
       "      <th>Luminosity(L/Lo)</th>\n",
       "      <th>Radius(R/Ro)</th>\n",
       "      <th>Absolute magnitude(Mv)</th>\n",
       "      <th>Clusters</th>\n",
       "    </tr>\n",
       "  </thead>\n",
       "  <tbody>\n",
       "    <tr>\n",
       "      <th>0</th>\n",
       "      <td>0.029663</td>\n",
       "      <td>2.731275e-09</td>\n",
       "      <td>0.000083</td>\n",
       "      <td>0.876798</td>\n",
       "      <td>1</td>\n",
       "    </tr>\n",
       "    <tr>\n",
       "      <th>1</th>\n",
       "      <td>0.028980</td>\n",
       "      <td>4.944550e-10</td>\n",
       "      <td>0.000075</td>\n",
       "      <td>0.891807</td>\n",
       "      <td>1</td>\n",
       "    </tr>\n",
       "    <tr>\n",
       "      <th>2</th>\n",
       "      <td>0.017367</td>\n",
       "      <td>2.590003e-10</td>\n",
       "      <td>0.000048</td>\n",
       "      <td>0.957473</td>\n",
       "      <td>1</td>\n",
       "    </tr>\n",
       "    <tr>\n",
       "      <th>3</th>\n",
       "      <td>0.022622</td>\n",
       "      <td>1.412729e-10</td>\n",
       "      <td>0.000078</td>\n",
       "      <td>0.893371</td>\n",
       "      <td>1</td>\n",
       "    </tr>\n",
       "    <tr>\n",
       "      <th>4</th>\n",
       "      <td>0.000000</td>\n",
       "      <td>6.828189e-11</td>\n",
       "      <td>0.000049</td>\n",
       "      <td>1.000000</td>\n",
       "      <td>1</td>\n",
       "    </tr>\n",
       "    <tr>\n",
       "      <th>...</th>\n",
       "      <td>...</td>\n",
       "      <td>...</td>\n",
       "      <td>...</td>\n",
       "      <td>...</td>\n",
       "      <td>...</td>\n",
       "    </tr>\n",
       "    <tr>\n",
       "      <th>235</th>\n",
       "      <td>0.972150</td>\n",
       "      <td>4.412776e-01</td>\n",
       "      <td>0.695919</td>\n",
       "      <td>0.062226</td>\n",
       "      <td>0</td>\n",
       "    </tr>\n",
       "    <tr>\n",
       "      <th>236</th>\n",
       "      <td>0.759307</td>\n",
       "      <td>9.818959e-01</td>\n",
       "      <td>0.612777</td>\n",
       "      <td>0.040338</td>\n",
       "      <td>0</td>\n",
       "    </tr>\n",
       "    <tr>\n",
       "      <th>237</th>\n",
       "      <td>0.181025</td>\n",
       "      <td>6.327765e-01</td>\n",
       "      <td>0.730304</td>\n",
       "      <td>0.037211</td>\n",
       "      <td>0</td>\n",
       "    </tr>\n",
       "    <tr>\n",
       "      <th>238</th>\n",
       "      <td>0.191692</td>\n",
       "      <td>4.767253e-01</td>\n",
       "      <td>0.570694</td>\n",
       "      <td>0.021576</td>\n",
       "      <td>0</td>\n",
       "    </tr>\n",
       "    <tr>\n",
       "      <th>239</th>\n",
       "      <td>0.944352</td>\n",
       "      <td>3.471816e-01</td>\n",
       "      <td>0.915063</td>\n",
       "      <td>0.128831</td>\n",
       "      <td>0</td>\n",
       "    </tr>\n",
       "  </tbody>\n",
       "</table>\n",
       "<p>240 rows × 5 columns</p>\n",
       "</div>"
      ],
      "text/plain": [
       "     Temperature (K)  Luminosity(L/Lo)  Radius(R/Ro)  Absolute magnitude(Mv)  \\\n",
       "0           0.029663      2.731275e-09      0.000083                0.876798   \n",
       "1           0.028980      4.944550e-10      0.000075                0.891807   \n",
       "2           0.017367      2.590003e-10      0.000048                0.957473   \n",
       "3           0.022622      1.412729e-10      0.000078                0.893371   \n",
       "4           0.000000      6.828189e-11      0.000049                1.000000   \n",
       "..               ...               ...           ...                     ...   \n",
       "235         0.972150      4.412776e-01      0.695919                0.062226   \n",
       "236         0.759307      9.818959e-01      0.612777                0.040338   \n",
       "237         0.181025      6.327765e-01      0.730304                0.037211   \n",
       "238         0.191692      4.767253e-01      0.570694                0.021576   \n",
       "239         0.944352      3.471816e-01      0.915063                0.128831   \n",
       "\n",
       "     Clusters  \n",
       "0           1  \n",
       "1           1  \n",
       "2           1  \n",
       "3           1  \n",
       "4           1  \n",
       "..        ...  \n",
       "235         0  \n",
       "236         0  \n",
       "237         0  \n",
       "238         0  \n",
       "239         0  \n",
       "\n",
       "[240 rows x 5 columns]"
      ]
     },
     "execution_count": 25,
     "metadata": {},
     "output_type": "execute_result"
    }
   ],
   "source": [
    "stars_AC_3 = pd.concat([stars, labels_AC_3], axis=1)\n",
    "stars_AC_3"
   ]
  },
  {
   "cell_type": "code",
   "execution_count": 26,
   "id": "8c305070",
   "metadata": {},
   "outputs": [
    {
     "data": {
      "text/html": [
       "<div>\n",
       "<style scoped>\n",
       "    .dataframe tbody tr th:only-of-type {\n",
       "        vertical-align: middle;\n",
       "    }\n",
       "\n",
       "    .dataframe tbody tr th {\n",
       "        vertical-align: top;\n",
       "    }\n",
       "\n",
       "    .dataframe thead tr th {\n",
       "        text-align: left;\n",
       "    }\n",
       "\n",
       "    .dataframe thead tr:last-of-type th {\n",
       "        text-align: right;\n",
       "    }\n",
       "</style>\n",
       "<table border=\"1\" class=\"dataframe\">\n",
       "  <thead>\n",
       "    <tr>\n",
       "      <th></th>\n",
       "      <th colspan=\"8\" halign=\"left\">Temperature (K)</th>\n",
       "      <th colspan=\"2\" halign=\"left\">Luminosity(L/Lo)</th>\n",
       "      <th>...</th>\n",
       "      <th colspan=\"2\" halign=\"left\">Radius(R/Ro)</th>\n",
       "      <th colspan=\"8\" halign=\"left\">Absolute magnitude(Mv)</th>\n",
       "    </tr>\n",
       "    <tr>\n",
       "      <th></th>\n",
       "      <th>count</th>\n",
       "      <th>mean</th>\n",
       "      <th>std</th>\n",
       "      <th>min</th>\n",
       "      <th>25%</th>\n",
       "      <th>50%</th>\n",
       "      <th>75%</th>\n",
       "      <th>max</th>\n",
       "      <th>count</th>\n",
       "      <th>mean</th>\n",
       "      <th>...</th>\n",
       "      <th>75%</th>\n",
       "      <th>max</th>\n",
       "      <th>count</th>\n",
       "      <th>mean</th>\n",
       "      <th>std</th>\n",
       "      <th>min</th>\n",
       "      <th>25%</th>\n",
       "      <th>50%</th>\n",
       "      <th>75%</th>\n",
       "      <th>max</th>\n",
       "    </tr>\n",
       "    <tr>\n",
       "      <th>Clusters</th>\n",
       "      <th></th>\n",
       "      <th></th>\n",
       "      <th></th>\n",
       "      <th></th>\n",
       "      <th></th>\n",
       "      <th></th>\n",
       "      <th></th>\n",
       "      <th></th>\n",
       "      <th></th>\n",
       "      <th></th>\n",
       "      <th></th>\n",
       "      <th></th>\n",
       "      <th></th>\n",
       "      <th></th>\n",
       "      <th></th>\n",
       "      <th></th>\n",
       "      <th></th>\n",
       "      <th></th>\n",
       "      <th></th>\n",
       "      <th></th>\n",
       "      <th></th>\n",
       "    </tr>\n",
       "  </thead>\n",
       "  <tbody>\n",
       "    <tr>\n",
       "      <th>0</th>\n",
       "      <td>120.0</td>\n",
       "      <td>0.323643</td>\n",
       "      <td>0.288454</td>\n",
       "      <td>0.028086</td>\n",
       "      <td>0.049736</td>\n",
       "      <td>0.224166</td>\n",
       "      <td>0.553973</td>\n",
       "      <td>1.000000</td>\n",
       "      <td>120.0</td>\n",
       "      <td>2.523801e-01</td>\n",
       "      <td>...</td>\n",
       "      <td>0.611238</td>\n",
       "      <td>1.00000</td>\n",
       "      <td>120.0</td>\n",
       "      <td>0.201880</td>\n",
       "      <td>0.139785</td>\n",
       "      <td>0.000000</td>\n",
       "      <td>0.119997</td>\n",
       "      <td>0.177767</td>\n",
       "      <td>0.254925</td>\n",
       "      <td>0.576173</td>\n",
       "    </tr>\n",
       "    <tr>\n",
       "      <th>1</th>\n",
       "      <td>120.0</td>\n",
       "      <td>0.126080</td>\n",
       "      <td>0.153697</td>\n",
       "      <td>0.000000</td>\n",
       "      <td>0.028665</td>\n",
       "      <td>0.039345</td>\n",
       "      <td>0.188572</td>\n",
       "      <td>0.605896</td>\n",
       "      <td>120.0</td>\n",
       "      <td>3.254240e-09</td>\n",
       "      <td>...</td>\n",
       "      <td>0.000119</td>\n",
       "      <td>0.00037</td>\n",
       "      <td>120.0</td>\n",
       "      <td>0.817657</td>\n",
       "      <td>0.084422</td>\n",
       "      <td>0.689181</td>\n",
       "      <td>0.745466</td>\n",
       "      <td>0.801907</td>\n",
       "      <td>0.894309</td>\n",
       "      <td>1.000000</td>\n",
       "    </tr>\n",
       "  </tbody>\n",
       "</table>\n",
       "<p>2 rows × 32 columns</p>\n",
       "</div>"
      ],
      "text/plain": [
       "         Temperature (K)                                                    \\\n",
       "                   count      mean       std       min       25%       50%   \n",
       "Clusters                                                                     \n",
       "0                  120.0  0.323643  0.288454  0.028086  0.049736  0.224166   \n",
       "1                  120.0  0.126080  0.153697  0.000000  0.028665  0.039345   \n",
       "\n",
       "                             Luminosity(L/Lo)                ... Radius(R/Ro)  \\\n",
       "               75%       max            count          mean  ...          75%   \n",
       "Clusters                                                     ...                \n",
       "0         0.553973  1.000000            120.0  2.523801e-01  ...     0.611238   \n",
       "1         0.188572  0.605896            120.0  3.254240e-09  ...     0.000119   \n",
       "\n",
       "                  Absolute magnitude(Mv)                                \\\n",
       "              max                  count      mean       std       min   \n",
       "Clusters                                                                 \n",
       "0         1.00000                  120.0  0.201880  0.139785  0.000000   \n",
       "1         0.00037                  120.0  0.817657  0.084422  0.689181   \n",
       "\n",
       "                                                  \n",
       "               25%       50%       75%       max  \n",
       "Clusters                                          \n",
       "0         0.119997  0.177767  0.254925  0.576173  \n",
       "1         0.745466  0.801907  0.894309  1.000000  \n",
       "\n",
       "[2 rows x 32 columns]"
      ]
     },
     "execution_count": 26,
     "metadata": {},
     "output_type": "execute_result"
    }
   ],
   "source": [
    "stars_AC_3.groupby('Clusters').describe()"
   ]
  },
  {
   "cell_type": "code",
   "execution_count": 27,
   "id": "b9f946e8",
   "metadata": {},
   "outputs": [
    {
     "data": {
      "text/html": [
       "<div>\n",
       "<style scoped>\n",
       "    .dataframe tbody tr th:only-of-type {\n",
       "        vertical-align: middle;\n",
       "    }\n",
       "\n",
       "    .dataframe tbody tr th {\n",
       "        vertical-align: top;\n",
       "    }\n",
       "\n",
       "    .dataframe thead th {\n",
       "        text-align: right;\n",
       "    }\n",
       "</style>\n",
       "<table border=\"1\" class=\"dataframe\">\n",
       "  <thead>\n",
       "    <tr style=\"text-align: right;\">\n",
       "      <th></th>\n",
       "      <th>Temperature (K)</th>\n",
       "      <th>Luminosity(L/Lo)</th>\n",
       "      <th>Radius(R/Ro)</th>\n",
       "      <th>Absolute magnitude(Mv)</th>\n",
       "    </tr>\n",
       "    <tr>\n",
       "      <th>Clusters</th>\n",
       "      <th></th>\n",
       "      <th></th>\n",
       "      <th></th>\n",
       "      <th></th>\n",
       "    </tr>\n",
       "  </thead>\n",
       "  <tbody>\n",
       "    <tr>\n",
       "      <th>0</th>\n",
       "      <td>0.323643</td>\n",
       "      <td>2.523801e-01</td>\n",
       "      <td>0.243343</td>\n",
       "      <td>0.201880</td>\n",
       "    </tr>\n",
       "    <tr>\n",
       "      <th>1</th>\n",
       "      <td>0.126080</td>\n",
       "      <td>3.254240e-09</td>\n",
       "      <td>0.000076</td>\n",
       "      <td>0.817657</td>\n",
       "    </tr>\n",
       "  </tbody>\n",
       "</table>\n",
       "</div>"
      ],
      "text/plain": [
       "          Temperature (K)  Luminosity(L/Lo)  Radius(R/Ro)  \\\n",
       "Clusters                                                    \n",
       "0                0.323643      2.523801e-01      0.243343   \n",
       "1                0.126080      3.254240e-09      0.000076   \n",
       "\n",
       "          Absolute magnitude(Mv)  \n",
       "Clusters                          \n",
       "0                       0.201880  \n",
       "1                       0.817657  "
      ]
     },
     "execution_count": 27,
     "metadata": {},
     "output_type": "execute_result"
    }
   ],
   "source": [
    "stars_AC_3.groupby('Clusters').mean()"
   ]
  },
  {
   "cell_type": "code",
   "execution_count": 28,
   "id": "9edd392c",
   "metadata": {},
   "outputs": [
    {
     "data": {
      "text/plain": [
       "{0: [30, 31, 32, 33, 34, 35, 36, 37, 38, 39, 40, 41, 42, 43, 44, 45, 46, 47, 48, 49, 50, 51, 52, 53, 54, 55, 56, 57, 58, 59, 90, 91, 92, 93, 94, 95, 96, 97, 98, 99, 100, 101, 102, 103, 104, 105, 106, 107, 108, 109, 110, 111, 112, 113, 114, 115, 116, 117, 118, 119, 150, 151, 152, 153, 154, 155, 156, 157, 158, 159, 160, 161, 162, 163, 164, 165, 166, 167, 168, 169, 170, 171, 172, 173, 174, 175, 176, 177, 178, 179, 210, 211, 212, 213, 214, 215, 216, 217, 218, 219, ...], 1: [0, 1, 2, 3, 4, 5, 6, 7, 8, 9, 10, 11, 12, 13, 14, 15, 16, 17, 18, 19, 20, 21, 22, 23, 24, 25, 26, 27, 28, 29, 60, 61, 62, 63, 64, 65, 66, 67, 68, 69, 70, 71, 72, 73, 74, 75, 76, 77, 78, 79, 80, 81, 82, 83, 84, 85, 86, 87, 88, 89, 120, 121, 122, 123, 124, 125, 126, 127, 128, 129, 130, 131, 132, 133, 134, 135, 136, 137, 138, 139, 140, 141, 142, 143, 144, 145, 146, 147, 148, 149, 180, 181, 182, 183, 184, 185, 186, 187, 188, 189, ...]}"
      ]
     },
     "execution_count": 28,
     "metadata": {},
     "output_type": "execute_result"
    }
   ],
   "source": [
    "stars_AC_3.groupby('Clusters').groups"
   ]
  }
 ],
 "metadata": {
  "kernelspec": {
   "display_name": "Python 3 (ipykernel)",
   "language": "python",
   "name": "python3"
  },
  "language_info": {
   "codemirror_mode": {
    "name": "ipython",
    "version": 3
   },
   "file_extension": ".py",
   "mimetype": "text/x-python",
   "name": "python",
   "nbconvert_exporter": "python",
   "pygments_lexer": "ipython3",
   "version": "3.9.7"
  }
 },
 "nbformat": 4,
 "nbformat_minor": 5
}
